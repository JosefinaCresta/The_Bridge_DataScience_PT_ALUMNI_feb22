{
 "cells": [
  {
   "cell_type": "markdown",
   "metadata": {},
   "source": [
    "# Bus\n",
    "\n",
    "Este bus tiene un sistema de control de subida y bajada de pasajeros para monitorizar el número de ocupantes que lleva y así detectar cuando hay un aforo demasiado alto. \n",
    "\n",
    "En cada parada la subida y bajada de pasajeros se representa por una tupla compuesta por dos números enteros. \n",
    "```\n",
    "bus_stop = (in, out)\n",
    "```\n",
    "La sucesión de paradas se representa con una lista estas tuplas.\n",
    "```\n",
    "stops = [(in1, out1), (in2, out2), (in3, out3), (in4, out4)]\n",
    "```\n",
    "\n",
    "## Objetivos: \n",
    "* listas, tuplas\n",
    "* bucles while/for\n",
    "* mínimo, máximo, longitud\n",
    "* media, desviación estandard\n",
    "\n",
    "## Tareas\n",
    "1. Calcula el número de paradas. \n",
    "2. Asigna a una variable una lista cuyos elementos sean el número de pasajeros en cada parada (in-out), \n",
    "3. Halla el máximo de ocupación del autobús. \n",
    "4. Calcula la media de la ocupación. Y la desviación estandard. \n"
   ]
  },
  {
   "cell_type": "code",
   "execution_count": 25,
   "metadata": {},
   "outputs": [
    {
     "name": "stdout",
     "output_type": "stream",
     "text": [
      "El número de paradas es 9\n",
      "Número de pasajeros en cada parada: [10, 13, 11, 10, 14, 10, 7, 5, 4]\n",
      "El máximo de ocupación del autobús fue 14 pasajeros\n",
      "La media de ocupación fue 9.33 pasajeros\n",
      "La desviación estandard del número de pasajeros fue 3.20\n"
     ]
    }
   ],
   "source": [
    "stops = [(10, 0), (4, 1), (3, 5), (3, 4), (5, 1), (1, 5), (5, 8), (4, 6), (2, 3)]\n",
    "\n",
    "# 1. Calcula el número de paradas. \n",
    "n_paradas = len(stops)\n",
    "print(f\"El número de paradas es {n_paradas}\")\n",
    "\n",
    "# 2. Asigna a una variable una lista cuyos elementos sean el número de pasajeros en \n",
    "# cada parada: Cada elemento depende del elemento previo en la lista + in - out.  \n",
    "n_pasajeros=[]\n",
    "\n",
    "n_pasajeros.append(stops[0][0])\n",
    "\n",
    "while len(n_pasajeros)<n_paradas:\n",
    "    for i in range(1, len(stops), 1):\n",
    "         n_pasajeros.append(n_pasajeros[i-1]+stops[i][0]-stops[i][1])\n",
    "\n",
    "print(f\"Número de pasajeros en cada parada: {n_pasajeros}\")        \n",
    "\n",
    "\n",
    "# 3. Halla el máximo de ocupación del autobús. \n",
    "n_max_pasajeros = max(n_pasajeros)\n",
    "print(f\"El máximo de ocupación del autobús fue {n_max_pasajeros} pasajeros\")\n",
    "\n",
    "# 4. Calcula la media de la ocupación. Y la desviación estandard. \n",
    "media = sum(n_pasajeros)/len(n_pasajeros)\n",
    "print(\"La media de ocupación fue {0:.2f} pasajeros\".format(media))\n",
    "\n",
    "import math\n",
    "desv= math.sqrt(sum((l-media)**2 for l in n_pasajeros) / len(n_pasajeros))\n",
    "print(\"La desviación estandard del número de pasajeros fue {0:.2f}\".format(desv))"
   ]
  },
  {
   "cell_type": "code",
   "execution_count": null,
   "metadata": {},
   "outputs": [],
   "source": []
  }
 ],
 "metadata": {
  "kernelspec": {
   "display_name": "Python 3",
   "language": "python",
   "name": "python3"
  },
  "language_info": {
   "codemirror_mode": {
    "name": "ipython",
    "version": 3
   },
   "file_extension": ".py",
   "mimetype": "text/x-python",
   "name": "python",
   "nbconvert_exporter": "python",
   "pygments_lexer": "ipython3",
   "version": "3.9.5"
  }
 },
 "nbformat": 4,
 "nbformat_minor": 2
}
