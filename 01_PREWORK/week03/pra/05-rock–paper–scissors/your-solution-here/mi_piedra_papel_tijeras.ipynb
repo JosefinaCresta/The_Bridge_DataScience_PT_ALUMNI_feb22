{
 "cells": [
  {
   "cell_type": "markdown",
   "metadata": {},
   "source": [
    "# Piedra, papel, tijeras\n",
    "\n",
    "Vamos jugar contra nuestro ordenador al famoso juego. \n",
    "\n",
    "https://es.wikipedia.org/wiki/Piedra,_papel_o_tijera\n",
    "\n",
    "Se aconseja el uso de funciones"
   ]
  },
  {
   "cell_type": "code",
   "execution_count": 140,
   "metadata": {},
   "outputs": [],
   "source": [
    "# Importa la función choice del módulo random\n",
    "# https://stackoverflow.com/questions/306400/how-to-randomly-select-an-item-from-a-list\n",
    "\n",
    "import random\n",
    "\n",
    "#foo = ['a', 'b', 'c', 'd', 'e']\n",
    "#print(random.choice(foo))"
   ]
  },
  {
   "cell_type": "code",
   "execution_count": 141,
   "metadata": {},
   "outputs": [],
   "source": [
    "# Asigna a una lista las 3 posibles opciones: 'piedra', 'papel' o 'tijeras'. \n",
    "opciones = ['piedra', 'papel' , 'tijeras']"
   ]
  },
  {
   "cell_type": "code",
   "execution_count": 142,
   "metadata": {},
   "outputs": [],
   "source": [
    "# Asigna una variable al número de partidas máxima: 1, 3, 5, etc...\n",
    "n_max = int(input('Ingresar el numero de partidas maximas'))"
   ]
  },
  {
   "cell_type": "code",
   "execution_count": 143,
   "metadata": {},
   "outputs": [
    {
     "name": "stdout",
     "output_type": "stream",
     "text": [
      "2\n"
     ]
    }
   ],
   "source": [
    "# Asigna una variable al número de partidas que debe ganar un jugador para ganar. \n",
    "# Preferiblemente el valor será en función de el número de partidas máximas\n",
    "n_ganados = int((n_max/2)+1)\n",
    "print(n_ganados)"
   ]
  },
  {
   "cell_type": "code",
   "execution_count": 144,
   "metadata": {},
   "outputs": [],
   "source": [
    "# Define una función que devuelva aleatoriamente una de las 3 opciones. \n",
    "# Esto corresponderá a la jugada de la máquina. Totalmente aleatoria. \n",
    "\n",
    "def compu_jugada(lista_opciones):\n",
    "    \n",
    "    return random.choice(lista_opciones)"
   ]
  },
  {
   "cell_type": "code",
   "execution_count": 159,
   "metadata": {},
   "outputs": [
    {
     "name": "stdout",
     "output_type": "stream",
     "text": [
      "tijeras\n"
     ]
    }
   ],
   "source": [
    "jugada_compu = compu_jugada(opciones)\n",
    "print(jugada_compu)"
   ]
  },
  {
   "cell_type": "code",
   "execution_count": 156,
   "metadata": {},
   "outputs": [],
   "source": [
    "# Define una función que pregunte tu elección: 'piedra', 'papel' o 'tijeras'\n",
    "# sólo debe permitir una de las 3 opciones. Esto es programación defensiva. \n",
    "# Si no es piedra, papel o tijeras sigue preguntando hasta que lo sea.\n",
    "def tu_jugada():\n",
    "    \"\"\"\n",
    "    Solicita tu elección y lo devuelve.\n",
    "    Mientras la elección ingresada no se encuentre en las opciones posibles,\n",
    "    vuelve a solicitarlo.\n",
    "    \n",
    "    https://www.pythontutorial.net/python-basics/python-try-except/\n",
    "    \"\"\"\n",
    "    opciones = ['piedra', 'papel' , 'tijeras']\n",
    "    \n",
    "    while True:\n",
    "        eleccion = input(\"'piedra', 'papel' o 'tijeras':\")\n",
    "        try:\n",
    "            for i in opciones:\n",
    "                if eleccion == i:\n",
    "                    return eleccion\n",
    "        except:\n",
    "            print(\"No haz ingresado una opción correcta \\nVuelva a intentarlo\")"
   ]
  },
  {
   "cell_type": "code",
   "execution_count": 160,
   "metadata": {},
   "outputs": [
    {
     "name": "stdout",
     "output_type": "stream",
     "text": [
      "papel\n"
     ]
    }
   ],
   "source": [
    "mi_jugada = tu_jugada()\n",
    "print(mi_jugada)"
   ]
  },
  {
   "cell_type": "code",
   "execution_count": 253,
   "metadata": {},
   "outputs": [],
   "source": [
    "# Define una función que resuelva un combate. \n",
    "# Devuelve 0 si hay empate, 1 si gana la máquina, 2 si gana el jugador humano \n",
    "\n",
    "def resultado(tu_jugada, compu_jugada):\n",
    "    if tu_jugada == compu_jugada:\n",
    "        print(\"Empate!\")\n",
    "        return 0\n",
    "    elif tu_jugada == \"piedra\":\n",
    "        # Si yo hago piedra, le gano a la compu si hace tijeras\n",
    "        # o pierdo si hace papel \n",
    "        if compu_jugada == \"tijeras\":\n",
    "            print(\"Piedra aplasta tijeras, Ganaste!\")\n",
    "            return 2\n",
    "        else:\n",
    "            print(\"Papel cubre piedra, Perdiste.\")\n",
    "            return 1\n",
    "    elif tu_jugada == \"papel\":\n",
    "        # Si yo hago papel, le gano a la compu si hace piedra\n",
    "        # o pierdo si hace tijeras\n",
    "        if compu_jugada == \"piedra\":\n",
    "            print(\"Papel cubre piedra, Ganaste tu!\")\n",
    "            return 2\n",
    "        else:\n",
    "            print(\"Tijeras cortan papel, Perdiste!\")\n",
    "            return 1\n",
    "    elif tu_jugada == \"tijeras\":\n",
    "        # Si yo hago tijeras, le gano a la compu si hace papel\n",
    "        # o pierdo si hace piedra\n",
    "        if compu_jugada == \"papel\":\n",
    "            print(\"Tijeras cortan papel, Ganaste\")\n",
    "            return 2\n",
    "        else:\n",
    "            print(\"Piedra aplasta tijeras, Perdiste!\")\n",
    "            return 1"
   ]
  },
  {
   "cell_type": "code",
   "execution_count": 256,
   "metadata": {},
   "outputs": [
    {
     "name": "stdout",
     "output_type": "stream",
     "text": [
      "tijeras\n",
      "Piedra aplasta tijeras, Ganaste!\n",
      "2\n"
     ]
    }
   ],
   "source": [
    "# Prueba con un partido\n",
    "\n",
    "# Cada uno juega\n",
    "jugada_compu = compu_jugada(opciones)\n",
    "print(jugada_compu)\n",
    "mi_jugada = tu_jugada()\n",
    "#print(mi_jugada)\n",
    "\n",
    "# Resultado\n",
    "un_partido = resultado(mi_jugada, jugada_compu)\n",
    "print(un_partido)"
   ]
  },
  {
   "cell_type": "code",
   "execution_count": 269,
   "metadata": {},
   "outputs": [],
   "source": [
    "# Define una función que muestre la elección de cada jugador y el estado de la partida\n",
    "# Esta función debe utilizarse cada vez que se actualicen los puntos acumulados\n",
    "\n",
    "def partido():\n",
    "    # elección compu\n",
    "    jugada_compu = compu_jugada(opciones)\n",
    "    # Hago la trampa de saber que elige la compu\n",
    "    # Pero se puede comentar la siguiente linea \n",
    "    #print(f\"Eleccion compu: {jugada_compu}\")\n",
    "    # elección mia\n",
    "    mi_jugada = tu_jugada()\n",
    "    #print(mi_jugada)\n",
    "    result = resultado(mi_jugada, jugada_compu)\n",
    "    if result == 0:\n",
    "        return result\n",
    "    elif result == 1:\n",
    "        return result\n",
    "    else:\n",
    "        return result"
   ]
  },
  {
   "cell_type": "code",
   "execution_count": 258,
   "metadata": {},
   "outputs": [
    {
     "name": "stdout",
     "output_type": "stream",
     "text": [
      "Eleccion compu: piedra\n",
      "Piedra aplasta tijeras, Perdiste!\n"
     ]
    },
    {
     "data": {
      "text/plain": [
       "1"
      ]
     },
     "execution_count": 258,
     "metadata": {},
     "output_type": "execute_result"
    }
   ],
   "source": [
    "partido()\n",
    "# partidoo = partido()\n",
    "# print(type(partidoo))"
   ]
  },
  {
   "cell_type": "code",
   "execution_count": 198,
   "metadata": {},
   "outputs": [],
   "source": [
    "# Crea dos variables que acumulen las partidas ganadas de cada participante\n",
    "mis_puntos = 0\n",
    "compu_puntos = 0\n",
    "partidos_jugados = 0"
   ]
  },
  {
   "cell_type": "code",
   "execution_count": 270,
   "metadata": {},
   "outputs": [
    {
     "name": "stdout",
     "output_type": "stream",
     "text": [
      "Hay que ganar: 2 de 3 partidos\n",
      "\n",
      "\tpartido numero: 1\n",
      "Papel cubre piedra, Ganaste tu!\n",
      "\tpuntos: \n",
      "\t\tcompu 0 \tmios 1\n",
      "\n",
      "\tpartido numero: 2\n",
      "Piedra aplasta tijeras, Perdiste!\n",
      "\tpuntos: \n",
      "\t\tcompu 1 \tmios 1\n",
      "\n",
      "\tpartido numero: 3\n",
      "Tijeras cortan papel, Perdiste!\n",
      "\tpuntos: \n",
      "\t\tcompu 2 \tmios 1\n",
      "Gano la compu\n"
     ]
    }
   ],
   "source": [
    "# Crea un bucle que itere mientras ningún jugador alcance el mínimo de victorias\n",
    "# necesarias para ganar. Dentro del bucle resuelve la jugada de la\n",
    "# máquina y pregunta la del jugador. Comparalas y actualiza el valor de las variables\n",
    "# que acumulen las partidas ganadas de cada participante. \n",
    "n_max = int(input('Ingresar el numero de partidas maximas'))\n",
    "n_ganados = int((n_max/2)+1)\n",
    "print(f\"Hay que ganar: {n_ganados} de {n_max} partidos\")\n",
    "\n",
    "mis_puntos = 0\n",
    "compu_puntos = 0\n",
    "partidos_jugados = 0\n",
    "\n",
    "while compu_puntos<n_ganados and mis_puntos<n_ganados:\n",
    "        partidos_jugados += 1\n",
    "        print(f\"\\n\\tpartido numero: {partidos_jugados}\")\n",
    "        partido_n = partido()\n",
    "        if partido_n == 1:\n",
    "                compu_puntos += 1\n",
    "        elif partido_n == 2:\n",
    "                mis_puntos +=1\n",
    "        else:\n",
    "                pass\n",
    "        print(f\"\\tpuntos: \\n\\t\\tcompu {compu_puntos} \\tmios {mis_puntos}\")\n",
    "# Anuncia por consola el ganador del juego en función de quién tiene más victorias aculumadas\n",
    "else:\n",
    "        if compu_puntos<mis_puntos:\n",
    "                print(\"Ganaste!!\")\n",
    "        else:\n",
    "                print(\"Gano la compu\")\n",
    "\n",
    "        "
   ]
  },
  {
   "cell_type": "markdown",
   "metadata": {},
   "source": [
    "# Bonus: Piedra, papel, tijeras, lagarto, spock\n",
    "\n",
    "Ahora vienen las mejoras. \n",
    "\n",
    "http://www.samkass.com/theories/RPSSL.html\n",
    "\n",
    "Se te pide que implimentes unas mejoras con respecto al simple juego previo. Además el número de partidas (que deberá ser IMPAR) se pedirá por consola hasta que se introduzca un número válido. \n",
    "\n",
    "Mejoras: \n",
    "* 5 opciones: piedra, papel, tijeras, lagarto, spock\n",
    "* El número de partidas se pide por consola\n",
    "Consejo: Reutiliza código que ya hagas utilizado"
   ]
  },
  {
   "cell_type": "code",
   "execution_count": null,
   "metadata": {},
   "outputs": [],
   "source": [
    "# Importa la función choice del módulo random\n",
    "\n",
    "\n",
    "# Define una función que pide por teclado un número impar, hasta que no sea válido\n",
    "# seguirá pidiendo\n",
    "\n",
    "\n",
    "# Asigna a una lista las 5 posibles opciones. \n",
    "\n",
    "\n",
    "# Asigna una variable al número de partidas máxima: 1, 3, 5, etc...\n",
    "# Esta vez se usa la función definida previamente\n",
    "\n",
    "\n",
    "# Asigna una variable al número de partidas que debe ganar un jugador para ganar. \n",
    "# Preferiblemente el valor será en función de el número de partidas máximas\n",
    "\n",
    "\n",
    "# Define una función que devuelva aleatoriamente una de las 5 opciones. \n",
    "# Esto corresponderá a la jugada de la máquina. Totalmente aleatoria. \n",
    "\n",
    "\n",
    "\n",
    "# Define una función que pregunte tu elección de entre las 5\n",
    "# sólo debe permitir una de las 5 opciones. Esto es programación defensiva. \n",
    "# Si no es válida sigue preguntando hasta que lo sea. \n",
    "\n",
    "\n",
    "# Define una función que resuelva un combate. \n",
    "# Devuelve 0 si hay empate, 1 si gana la máquina, 2 si gana el jugador humano\n",
    "# Ahora hay más opciones\n",
    "\n",
    "\n",
    "    \n",
    "# Define una función que muestre la elección de cada jugador y el estado de la partida\n",
    "# Esta función debe utilizarse cada vez que se actualicen los puntos acumulados\n",
    "\n",
    "\n",
    "    \n",
    "# Crea dos variables que acumulen las partidas ganadas de cada participante\n",
    "\n",
    "\n",
    "# Crea un bucle que itere mientras ningún jugador alcance el mínimo de victorias\n",
    "# necesarias para ganar. Dentro del bucle resuelve la jugada de la\n",
    "# máquina y pregunta la del jugador. Comparalas y actualiza el valor de las variables\n",
    "# que acumulen las partidas ganadas de cada participante. \n",
    "\n",
    "\n",
    "    \n",
    "# Anuncia por consola el ganador del juego en función de quién tiene más victorias \n",
    "# aculumadas\n",
    "\n"
   ]
  },
  {
   "cell_type": "markdown",
   "metadata": {},
   "source": [
    "Si has programado con cabeza, el bonus son simples modificaciones al juego original. "
   ]
  },
  {
   "cell_type": "markdown",
   "metadata": {},
   "source": [
    "## Objetivos\n",
    "1. Uso de bucle\n",
    "2. Captura de datos por consola\n",
    "3. Uso if-elif-else\n",
    "4. Uso de try-except\n",
    "5. Definición de funciones. Programación modular. \n",
    "6. Operadores lógicos. \n",
    "7. Imprimir por consola\n",
    "8. Importación de módulos externos"
   ]
  },
  {
   "cell_type": "code",
   "execution_count": null,
   "metadata": {},
   "outputs": [],
   "source": []
  }
 ],
 "metadata": {
  "kernelspec": {
   "display_name": "Python 3",
   "language": "python",
   "name": "python3"
  },
  "language_info": {
   "codemirror_mode": {
    "name": "ipython",
    "version": 3
   },
   "file_extension": ".py",
   "mimetype": "text/x-python",
   "name": "python",
   "nbconvert_exporter": "python",
   "pygments_lexer": "ipython3",
   "version": "3.9.5"
  }
 },
 "nbformat": 4,
 "nbformat_minor": 4
}
