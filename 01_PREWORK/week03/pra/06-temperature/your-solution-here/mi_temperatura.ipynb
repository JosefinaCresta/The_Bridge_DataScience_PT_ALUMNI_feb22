{
 "cells": [
  {
   "cell_type": "markdown",
   "metadata": {},
   "source": [
    "# Temperatura del procesador\n",
    "\n",
    "Tenemos un sensor de temperatura en el procesador el servidor de nuestra empresa. Queremos analizar los datos proporcionados para analizar si debemos cambiar de sistema de refrigeración por uno mejor. Es caro y como analista de datos no podemos tomar decisiones sin base. \n",
    "\n",
    "Proporcionamos las temperaturas medidas a lo largo de las 24 horas de un día en una estructura de datos tipo lista compuesta de 24 números enteros: \n",
    "```\n",
    "temperaturas_C = [33,66,65,0,59,60,62,64,70,76,80,69,80,83,68,79,61,53,50,49,53,48,45,39]\n",
    "```"
   ]
  },
  {
   "cell_type": "markdown",
   "metadata": {},
   "source": [
    "## Gráfica de temperaturas\n",
    "Para facilitar el entendimiento se te muestra a continuación la gráfica de temperatura. No tienes que hacer nada en este apartado. La prueba empieza en **Problema**. "
   ]
  },
  {
   "cell_type": "code",
   "execution_count": 25,
   "metadata": {},
   "outputs": [],
   "source": [
    "# eje x, eje y\n",
    "y = [33,66,65,0,59,60,62,64,70,76,80,69,80,83,68,79,61,53,50,49,53,48,45,39]\n",
    "x = list(range(len(y)))"
   ]
  },
  {
   "cell_type": "code",
   "execution_count": 2,
   "metadata": {},
   "outputs": [],
   "source": [
    "#x"
   ]
  },
  {
   "cell_type": "code",
   "execution_count": 9,
   "metadata": {},
   "outputs": [
    {
     "data": {
      "text/plain": [
       "Text(0.5, 1.0, 'Temperaturas de nuestro servidor a lo largo del día')"
      ]
     },
     "execution_count": 9,
     "metadata": {},
     "output_type": "execute_result"
    },
    {
     "data": {
      "image/png": "[encoded data removed]",
      "text/plain": [
       "<Figure size 432x288 with 1 Axes>"
      ]
     },
     "metadata": {
      "needs_background": "light"
     },
     "output_type": "display_data"
    }
   ],
   "source": [
    "# imports\n",
    "import matplotlib.pyplot as plt\n",
    "%matplotlib inline\n",
    "\n",
    "# eje x, eje y\n",
    "#y = [33,66,65,0,59,60,62,64,70,76,80,69,80,83,68,79,61,53,50,49,53,48,45,39]\n",
    "y = temperaturas_C\n",
    "x = list(range(len(y)))\n",
    "\n",
    "# imprimir figura\n",
    "plt.plot(x, y)\n",
    "plt.axhline(y=70, linewidth=1, color='r')\n",
    "plt.xlabel('horas')\n",
    "plt.ylabel('Temperatura ºC')\n",
    "plt.title('Temperaturas de nuestro servidor a lo largo del día')"
   ]
  },
  {
   "cell_type": "markdown",
   "metadata": {},
   "source": [
    "## Problema\n",
    "\n",
    "Si el sensor detecta más de 4 horas con temperaturas mayores o igual que 70ºC o alguna temperatura superior a 80ºC o la media fuera superior a 65ºC a lo largo de todo el día, deberemos dar la orden de cambiar el sistema de refrigeración para evitar dañar el procesador. \n",
    "\n",
    "Te vamos a guiar paso a paso para que puedas tomar la decisión calculando algunos pasos intermedios: \n",
    "\n",
    "1. Temperatura mínima\n",
    "2. Temperatura máxima\n",
    "3. Temperaturas igual o superior a 70ºC\n",
    "4. Media de temperaturas a lo largo del día. \n",
    "5. Si hubiera un fallo en el sensor a las 03:00 y no capturáramos el dato, ¿Cómo estímarias el valor que nos falta? Corrige ese valor en la lista de temperaturas. \n",
    "6. Bonus: Nuestro personal de mantenimiento es de Estados Unidos y no entiende el sistema métrico internacional. Pása las temperaturas a Grados Fahrenheit.\n",
    "\n",
    "Fórmula: F = 1.8 * C + 32\n",
    "\n",
    "web: https://es.wikipedia.org/wiki/Grado_Fahrenheit"
   ]
  },
  {
   "cell_type": "code",
   "execution_count": 1,
   "metadata": {},
   "outputs": [],
   "source": [
    "# asigna a una variable la lista de temperaturas\n",
    "temperaturas_C = [33,66,65,0,59,60,62,64,70,76,80,81,80,83,90,79,61,53,50,49,53,48,45,39]"
   ]
  },
  {
   "cell_type": "code",
   "execution_count": 2,
   "metadata": {},
   "outputs": [
    {
     "name": "stdout",
     "output_type": "stream",
     "text": [
      "La temperatura minima es: 0\n"
     ]
    }
   ],
   "source": [
    "# 1. Calcula el minimo de la lista e imprime el valor con print()\n",
    "def min_T(data_temp):\n",
    "    minima_T = min(data_temp)\n",
    "    return minima_T\n",
    "print(f\"La temperatura minima es: {min_T(temperaturas_C)}\")\n"
   ]
  },
  {
   "cell_type": "code",
   "execution_count": 3,
   "metadata": {},
   "outputs": [
    {
     "name": "stdout",
     "output_type": "stream",
     "text": [
      "La temperatura maxima es: 90\n"
     ]
    }
   ],
   "source": [
    "# 2. Calcula el máximo de la lista e imprime el valor con print()\n",
    "def max_T(data_temp):\n",
    "    maxima_T = max(data_temp)\n",
    "    return maxima_T\n",
    "\n",
    "print(f\"La temperatura maxima es: {max_T(temperaturas_C)}\")"
   ]
  },
  {
   "cell_type": "code",
   "execution_count": 4,
   "metadata": {},
   "outputs": [
    {
     "name": "stdout",
     "output_type": "stream",
     "text": [
      "Las temperaturas mayores a 70 fueron [76, 80, 81, 80, 83, 90, 79]\n"
     ]
    }
   ],
   "source": [
    "# 3. Elementos de la lista que son mayores que 70ºC e imprime el resultado\n",
    "def mayores_70(data_temp):\n",
    "    mayores_70 = []\n",
    "    for t in data_temp:\n",
    "        if t>70:\n",
    "            mayores_70.append(t)\n",
    "    return mayores_70\n",
    "\n",
    "\n",
    "print(f\"Las temperaturas mayores a 70 fueron {mayores_70(temperaturas_C)}\")"
   ]
  },
  {
   "cell_type": "code",
   "execution_count": 6,
   "metadata": {},
   "outputs": [
    {
     "name": "stdout",
     "output_type": "stream",
     "text": [
      "La media de temperaturas a lo largo del día fue 60.25\n"
     ]
    }
   ],
   "source": [
    "# 4. cálculo de la media de temperaturas a lo largo del día e imprime resultado\n",
    "def media_T(array):\n",
    "    suma=sum(array)\n",
    "    media = suma/len(array)\n",
    "    return media\n",
    "\n",
    "\n",
    "print(f\"La media de temperaturas a lo largo del día fue {media_T(temperaturas_C)}\")"
   ]
  },
  {
   "cell_type": "markdown",
   "metadata": {},
   "source": [
    " 5. Si hubiera un fallo en el sensor a las 03:00 y no capturáramos el dato, ¿Cómo estímarias el valor que nos falta? Corrige ese valor en la lista de temperaturas. "
   ]
  },
  {
   "cell_type": "code",
   "execution_count": 7,
   "metadata": {},
   "outputs": [
    {
     "name": "stdout",
     "output_type": "stream",
     "text": [
      "65 62 59\n"
     ]
    }
   ],
   "source": [
    "# 5.1 Soluciona el fallo en el sensor estimando un valor\n",
    "# Interpolo con el valor medio entre la temperatura de la hora anterior y la posterior\n",
    "temp_2 = temperaturas_C[2]\n",
    "temp_4 = temperaturas_C[4]\n",
    "temp_3 = abs((temperaturas_C[2]+temperaturas_C[4])//2)\n",
    "print(temp_2, temp_3, temp_4)\n",
    "\n",
    "# Arreglo la lista de\n",
    "temperaturas_C[3]=temp_3\n"
   ]
  },
  {
   "cell_type": "code",
   "execution_count": 10,
   "metadata": {},
   "outputs": [
    {
     "name": "stdout",
     "output_type": "stream",
     "text": [
      "[33, 66, 65, 62, 59, 60, 62, 64, 70, 76, 80, 81, 80, 83, 90, 79, 61, 53, 50, 49, 53, 48, 45, 39]\n"
     ]
    },
    {
     "data": {
      "text/plain": [
       "Text(0.5, 1.0, 'Temperaturas de nuestro servidor a lo largo del día')"
      ]
     },
     "execution_count": 10,
     "metadata": {},
     "output_type": "execute_result"
    },
    {
     "data": {
      "image/png": "[encoded data removed]",
      "text/plain": [
       "<Figure size 432x288 with 1 Axes>"
      ]
     },
     "metadata": {
      "needs_background": "light"
     },
     "output_type": "display_data"
    }
   ],
   "source": [
    "# 5.2 Actualización del valor estimado a las 03:00 en la lista\n",
    "temperaturas_C[3]=temp_3\n",
    "print(temperaturas_C)\n",
    "\n",
    "y = temperaturas_C\n",
    "x = list(range(len(y)))\n",
    "\n",
    "# imprimir figura\n",
    "plt.plot(x, y)\n",
    "plt.axhline(y=70, linewidth=1, color='r')\n",
    "plt.xlabel('horas')\n",
    "plt.ylabel('Temperatura ºC')\n",
    "plt.title('Temperaturas de nuestro servidor a lo largo del día')"
   ]
  },
  {
   "cell_type": "code",
   "execution_count": 11,
   "metadata": {},
   "outputs": [
    {
     "name": "stdout",
     "output_type": "stream",
     "text": [
      "[91.4, 150.8, 149.0, 143.60000000000002, 138.2, 140.0, 143.60000000000002, 147.2, 158.0, 168.8, 176.0, 177.8, 176.0, 181.4, 194.0, 174.20000000000002, 141.8, 127.4, 122.0, 120.2, 127.4, 118.4, 113.0, 102.2]\n"
     ]
    }
   ],
   "source": [
    "# Bonus: pasar la lista de ºC a grados Farenheit\n",
    "# Fórmula: F = 1.8 * C + 32\n",
    "temperaturas_F = []\n",
    "for t in temperaturas_C:\n",
    "    f = 1.8 * t +32\n",
    "    temperaturas_F.append(f)\n",
    "#print(temperaturas_C)\n",
    "print(temperaturas_F)"
   ]
  },
  {
   "cell_type": "markdown",
   "metadata": {},
   "source": [
    "## Toma la decisión\n",
    "Recuerda que si el sensor detecta más de 4 horas con temperaturas mayores o igual que 70ºC o alguna temperatura superior a 80ºC o la media fuera superior a 65ºC a lo largo de todo el día, deberemos dar la orden de cambiar el sistema de refrigeración para evitar el peligro de dañar el equipamiento: \n",
    "* más de 4 horas con temperaturas mayores o igual que 70ºC\n",
    "* alguna temperatura superior a 80ºC\n",
    "* media fuera superior a 65ºC a lo largo de todo el día\n",
    "Si se cumple alguna de estas tres habrá que cambiar el sistema de refrigeración. "
   ]
  },
  {
   "cell_type": "code",
   "execution_count": 12,
   "metadata": {},
   "outputs": [
    {
     "data": {
      "text/plain": [
       "True"
      ]
     },
     "execution_count": 12,
     "metadata": {},
     "output_type": "execute_result"
    }
   ],
   "source": [
    "# Imprime True o False en función de si cambiarías el sistema de refrigeración o no\n",
    "def problema(data_temp):\n",
    "    if len(mayores_70(data_temp))>4 or max_T(data_temp)>80 or media_T(data_temp)>65:\n",
    "        return True\n",
    "    else:\n",
    "        return False\n",
    "\n",
    "problema(temperaturas_C)"
   ]
  },
  {
   "cell_type": "markdown",
   "metadata": {},
   "source": [
    "## Objetivos\n",
    "\n",
    "1. Tratamiento de listas\n",
    "2. Uso de bucle o list comprenhention\n",
    "3. Cálculo de la media, minimo y máximo. \n",
    "4. Filtrado de listas. \n",
    "5. Interpolar un valor atípico. \n",
    "6. Operadores lógicos. \n",
    "7. Imprimir por consola"
   ]
  },
  {
   "cell_type": "code",
   "execution_count": null,
   "metadata": {},
   "outputs": [],
   "source": []
  },
  {
   "cell_type": "code",
   "execution_count": null,
   "metadata": {},
   "outputs": [],
   "source": []
  }
 ],
 "metadata": {
  "kernelspec": {
   "display_name": "Python 3",
   "language": "python",
   "name": "python3"
  },
  "language_info": {
   "codemirror_mode": {
    "name": "ipython",
    "version": 3
   },
   "file_extension": ".py",
   "mimetype": "text/x-python",
   "name": "python",
   "nbconvert_exporter": "python",
   "pygments_lexer": "ipython3",
   "version": "3.9.5"
  }
 },
 "nbformat": 4,
 "nbformat_minor": 4
}
