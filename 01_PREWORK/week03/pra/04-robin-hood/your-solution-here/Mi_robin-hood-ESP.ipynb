{
 "cells": [
  {
   "cell_type": "markdown",
   "metadata": {},
   "source": [
    "# Robin Hood: \n",
    "Estamos en plena competición para ganar el concurso de tiro con arco en Sherwood. Con nuestro arco y flechas disparamos sobre una diana e intentamos acertar lo más cerca posible del centro. \n",
    "\n",
    "El centro de la diana viene representado por los valores (0, 0) en los ejes de coordenadas. \n",
    "\n",
    "## Objetivos: \n",
    "* estructuras de datos: listas, conjuntos, tuplas\n",
    "* operadores lógicos: if-elif-else\n",
    "* bucle: while/for\n",
    "* cálculo de mínimo (sorting opcional)\n",
    "\n",
    "## Descripción: \n",
    "En el espacio de 2 dimensiones un punto se puede definir por un par de valores que corresponden a la coordenada horizontal (x) y a la vertical (y). El espacio puede quedar dividido en 4 zonas (cuadrantes): Q1, Q2, Q3, Q4. Cuyo punto de unión único es el punto (0, 0). \n",
    "\n",
    "Si un punto se encuentra en Q1 tanto su coordenada x como la y son positivas. Te dejo un enlace a wikipedia para que te familiarices con estos cuadrantes. \n",
    "\n",
    "https://es.wikipedia.org/wiki/Coordenadas_cartesianas\n",
    "\n",
    "https://es.wikipedia.org/wiki/Distancia_euclidiana\n",
    "\n",
    "## Tareas\n",
    "1. Robin Hood es famoso por acertar a una flecha con otra flecha. ¿Lo ha conseguido? \n",
    "2. Calcula cuántos flechazos han caido en cada cuadrante. \n",
    "3. Halla el punto más cercano al centro. Calcula su distancia al centro\n",
    "4. Si la diana tiene un radio de 9, calcula el número de flechas que hay que recoger al bosque. "
   ]
  },
  {
   "cell_type": "code",
   "execution_count": 61,
   "metadata": {},
   "outputs": [],
   "source": [
    "puntos = [(4,5), (-0,2), (4,7), (1,-3), (3,-2), (4,5), \n",
    "          (3,2), (5,7), (-5,7), (2,2), (-4,5), (0,-2), \n",
    "          (-4,7), (-1,3), (-3,2), (-4,-5), (-3,2), \n",
    "          (5,7), (5,7), (2,2), (9, 9), (-8, -9)]"
   ]
  },
  {
   "cell_type": "code",
   "execution_count": 65,
   "metadata": {},
   "outputs": [
    {
     "name": "stdout",
     "output_type": "stream",
     "text": [
      "Si! Robin Hood ha conseguido acertar a una flecha con otra flecha\n"
     ]
    }
   ],
   "source": [
    "# 1. Robin Hood es famoso por acertar a una flecha con otra flecha. ¿Lo ha conseguido? \n",
    "set_ptos = set(puntos)\n",
    "\n",
    "if len(set_ptos)<len(puntos):\n",
    "    print(\"Si! Robin Hood ha conseguido acertar a una flecha con otra flecha\")\n",
    "else:\n",
    "    print(\"No! Robin Hood no fue tan bueno esta vez no acertó ninguna flecha con otra flecha\")"
   ]
  },
  {
   "cell_type": "code",
   "execution_count": 66,
   "metadata": {},
   "outputs": [
    {
     "name": "stdout",
     "output_type": "stream",
     "text": [
      "Han caido 10 flechas en el 1er cuadrante\n",
      "Han caido 6 flechas en el 2do cuadrante\n",
      "Han caido 2 flechas en el 3er cuadrante\n",
      "Han caido 4 flechas en el 4to cuadrante\n"
     ]
    }
   ],
   "source": [
    "# 2. Calcula cuántos flechazos han caido en cada cuadrante. \n",
    "q1, q2, q3, q4=0,0,0,0\n",
    "\n",
    "for flecha in puntos:\n",
    "    if flecha[0]>0 and flecha[1]>0:\n",
    "        q1+=1\n",
    "    elif flecha[0]<0 and flecha[1]>0:\n",
    "        q2+=1\n",
    "    elif flecha[0]<0 and flecha[1]<0:\n",
    "        q3+=1\n",
    "    else: \n",
    "        q4+=1\n",
    "\n",
    "print(f\"Han caido {q1} flechas en el 1er cuadrante\")\n",
    "print(f\"Han caido {q2} flechas en el 2do cuadrante\")\n",
    "print(f\"Han caido {q3} flechas en el 3er cuadrante\")\n",
    "print(f\"Han caido {q4} flechas en el 4to cuadrante\")"
   ]
  },
  {
   "cell_type": "code",
   "execution_count": 52,
   "metadata": {},
   "outputs": [
    {
     "name": "stdout",
     "output_type": "stream",
     "text": [
      "[6.4031242374328485, 2.0, 8.06225774829855, 3.1622776601683795, 3.605551275463989, 6.4031242374328485, 3.605551275463989, 8.602325267042627, 8.602325267042627, 2.8284271247461903, 6.4031242374328485, 2.0, 8.06225774829855, 3.1622776601683795, 3.605551275463989, 6.4031242374328485, 3.605551275463989, 8.602325267042627, 8.602325267042627, 2.8284271247461903, 12.727922061357855, 12.041594578792296]\n"
     ]
    }
   ],
   "source": [
    "# 3. Halla el punto más cercano al centro. Calcula su distancia al centro\n",
    "# Definir una función que calcula la distancia al centro puede servir de ayuda. \n",
    "\n",
    "# Defino función que calcula la distancia de un punto (x,y) al centro de coordenandas\n",
    "def dist(x=0,y=0):\n",
    "    import math\n",
    "    r = math.sqrt(x**2+y**2)\n",
    "    return r \n",
    "\n",
    "distancias=[]\n",
    "for flecha in puntos:\n",
    "    distancias.append(dist(flecha[0], flecha[1]))\n",
    "print(distancias)\n"
   ]
  },
  {
   "cell_type": "code",
   "execution_count": 67,
   "metadata": {},
   "outputs": [
    {
     "name": "stdout",
     "output_type": "stream",
     "text": [
      "El/los punto/s más cercano/s al centro es/son: [(0, 2), (0, -2)]\n",
      "Los cuales se encuentra a 2.0 del centro\n"
     ]
    }
   ],
   "source": [
    "# Ahora hallo la minima distancia\n",
    "min_dist = min(distancias)\n",
    "\n",
    "# Hallo lista de indices de puntos que se encuentran \n",
    "# a minima distancia del centro \n",
    "min_idx = [idx for idx, distancia in enumerate(distancias) if distancia == min_dist]\n",
    "\n",
    "# Hallo las coordenadas del punto más cercano al centro\n",
    "min_pto = []\n",
    "for i in min_idx:\n",
    "    min_pto.append(puntos[i])\n",
    "\n",
    "print(f\"El/los punto/s más cercano/s al centro es/son: {min_pto}\")\n",
    "print(f\"Los cuales se encuentra a {min_dist} del centro\")"
   ]
  },
  {
   "cell_type": "code",
   "execution_count": 68,
   "metadata": {},
   "outputs": [
    {
     "name": "stdout",
     "output_type": "stream",
     "text": [
      "Hay que recoger 2 flechas en el bosque\n"
     ]
    }
   ],
   "source": [
    "# 4. Si la diana tiene un radio de 9, calcula el número de flechas que hay que recoger al bosque. \n",
    "out=0\n",
    "for i in distancias:\n",
    "    if i>9:\n",
    "        out += 1\n",
    "print(f\"Hay que recoger {out} flechas en el bosque\")"
   ]
  }
 ],
 "metadata": {
  "kernelspec": {
   "display_name": "Python 3",
   "language": "python",
   "name": "python3"
  },
  "language_info": {
   "codemirror_mode": {
    "name": "ipython",
    "version": 3
   },
   "file_extension": ".py",
   "mimetype": "text/x-python",
   "name": "python",
   "nbconvert_exporter": "python",
   "pygments_lexer": "ipython3",
   "version": "3.9.5"
  }
 },
 "nbformat": 4,
 "nbformat_minor": 2
}
