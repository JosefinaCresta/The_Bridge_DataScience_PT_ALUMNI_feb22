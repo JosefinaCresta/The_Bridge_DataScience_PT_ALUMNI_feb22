{
 "cells": [
  {
   "cell_type": "markdown",
   "metadata": {},
   "source": [
    "### Pregunta 1\n",
    "\n",
    "¿Cuál es el valor final de a, b y c? (atención a los tipos de número decimal y entero)\n",
    "\n",
    "a = 5 * 11\n",
    "\n",
    "b = a / 2.\n",
    "\n",
    "c, a = b * 2, b + 1"
   ]
  },
  {
   "cell_type": "code",
   "execution_count": 8,
   "metadata": {},
   "outputs": [
    {
     "name": "stdout",
     "output_type": "stream",
     "text": [
      "1.5 0.5 1.0\n"
     ]
    }
   ],
   "source": [
    "# Respuesta\n",
    "a=5*11\n",
    "b=1/2\n",
    "c,a=b*2,b+1\n",
    "# a primero es 55 y luego 1.5\n",
    "#b es 1.5\n",
    "#c es 1.\n",
    "print(a,b,c)"
   ]
  },
  {
   "cell_type": "markdown",
   "metadata": {},
   "source": [
    "### Pregunta 2\n",
    "\n",
    "Identifica tres tipos de datos de Python y explica brevemente en qué se diferencian. Explica la diferencia entre el tipo lista y el tipo tupla."
   ]
  },
  {
   "cell_type": "code",
   "execution_count": 12,
   "metadata": {},
   "outputs": [
    {
     "name": "stdout",
     "output_type": "stream",
     "text": [
      "11 <class 'int'>\n",
      "11.0 <class 'float'>\n",
      "cadena <class 'str'>\n"
     ]
    }
   ],
   "source": [
    "# Respuesta\n",
    "a=11\n",
    "b=11.\n",
    "c=\"cadena\"\n",
    "print(a,type(a))\n",
    "print(b,type(b))\n",
    "print(c,type(c))\n"
   ]
  },
  {
   "cell_type": "markdown",
   "metadata": {},
   "source": [
    "### Tipo numerico *entero*:\n",
    "$a=11$ \n",
    "\n",
    "No tienen decimales, pueden ser tanto positivos como negativos (además del cero). En Python se pueden representar mediante el tipo int (de integer, entero) o el tipo long (largo). La única diferencia es que el tipo long permite almacenarnúmeros más grandes. Es aconsejable no utilizar el tipo long a menos que sea necesario, para no malgastar memoria."
   ]
  },
  {
   "cell_type": "markdown",
   "metadata": {},
   "source": [
    "### Tipo numerico *float*:\n",
    "$b=11.$\n",
    "\n",
    "Son números reales, es decir tienen decimales. Python, implementa su tipo float a bajo nivel mediante una variable de tipo double de C, es decir, utilizando 64 bits, luego en Python siempre se utiliza doble precisión, y en concreto se sigue el estándar IEEE 754: 1 bit para el signo, 11 para el exponente, y 52 para la mantisa. \n",
    "\n"
   ]
  },
  {
   "cell_type": "markdown",
   "metadata": {},
   "source": [
    "### Tipo cadena de caracteres *string*\n",
    "$c=\"cadena\"$\n",
    "\n",
    "son secuencias inmutables que contienen caracteres encerrado entre comillas.\n"
   ]
  },
  {
   "cell_type": "markdown",
   "metadata": {},
   "source": [
    "###"
   ]
  },
  {
   "cell_type": "markdown",
   "metadata": {},
   "source": [
    "## Diferencia tipo *lista* y *tupla*\n",
    "### *lista:*\n",
    "Entre las secuencias, son las más versátiles. Para definir una lista, se debe escribir entre corchetes, separando sus elementos con comas cada uno.\n",
    "\n",
    "La lista en Python son variables que almacenan arrays, internamente cada posición puede ser un tipo de datos distinto.\n",
    "\n",
    "- heterogéneas: pueden estar conformadas por elementos de distintos tipo,incluidos otras listas.\n",
    "- mutables: sus elementos pueden modificarse.\n",
    "Una lista en Python es una estructura de datos formada por una secuencia ordenada de objetos.\n",
    "\n",
    "Los elementos de una lista pueden accederse mediante su índice, siendo 0 el índice del primer elemento.\n",
    "\n",
    "### *tuplas:*\n",
    "Son objetos de tipo secuencia, específicamente es un tipo de dato lista inmutable. Esta no puede modificarse de ningún modo después de su creación.\n",
    "Son muy similares a las listas y comparten varias de sus funciones y métodos integrados, aunque su principal diferencia es que son inmutables. "
   ]
  },
  {
   "cell_type": "markdown",
   "metadata": {},
   "source": [
    "### Pregunta 3\n",
    "\n",
    "¿Cuál es el resultado de la operación lógica ` 'manzana'> 'casa'`? Explica por qué. \n",
    "\n",
    "**Nota**: Consultad en estándar [Unicode](https://es.wikipedia.org/wiki/Unicode) para la codificación de caracteres."
   ]
  },
  {
   "cell_type": "code",
   "execution_count": 13,
   "metadata": {},
   "outputs": [
    {
     "data": {
      "text/plain": [
       "True"
      ]
     },
     "execution_count": 13,
     "metadata": {},
     "output_type": "execute_result"
    }
   ],
   "source": [
    "# Respuesta\n",
    "'manzana'>'casa'"
   ]
  },
  {
   "cell_type": "markdown",
   "metadata": {},
   "source": [
    "La operación lógica ` 'manzana'> 'casa'` da como resultado `True` ya que segun Unicode, el estándar de codificación de caracteres, da esa jerarquia"
   ]
  },
  {
   "cell_type": "markdown",
   "metadata": {},
   "source": [
    "### Ejercicio 1\n",
    "\n",
    "Escribir un programa que seleccione la cadena \"analista\" a partir de la cadena: \"Ana es buena analista de datos.\". Mostrar el resultado por pantalla."
   ]
  },
  {
   "cell_type": "code",
   "execution_count": 18,
   "metadata": {},
   "outputs": [
    {
     "name": "stdout",
     "output_type": "stream",
     "text": [
      "analista\n"
     ]
    }
   ],
   "source": [
    "# Respuesta\n",
    "cadena = \"Ana es buena analista de datos.\"\n",
    "\n",
    "lista = cadena.split()\n",
    "\n",
    "print(lista[3])"
   ]
  },
  {
   "cell_type": "markdown",
   "metadata": {},
   "source": [
    "### Ejercicio 2\n",
    "\n",
    "Qué expresión en Python necesitamos para conseguir el _string_\n",
    "\"nohtyPythonython\" utilizando sólo la palabra \"Python\"? "
   ]
  },
  {
   "cell_type": "code",
   "execution_count": 44,
   "metadata": {},
   "outputs": [
    {
     "name": "stdout",
     "output_type": "stream",
     "text": [
      "nohtyPythonython\n"
     ]
    }
   ],
   "source": [
    "# Respuesta\n",
    "python = \"Python\"\n",
    "lista = list(python)\n",
    "string = \"\"\n",
    "for i in reversed(lista):\n",
    "    string+=i\n",
    "for i in range(1,len(lista)):\n",
    "    string+=lista[i]\n",
    "for i in range(1,len(lista)):\n",
    "    string+=lista[i]\n",
    "print(string)"
   ]
  },
  {
   "cell_type": "markdown",
   "metadata": {},
   "source": [
    "### Ejercicio 3\n",
    "\n",
    "Escribe un programa que asigne dos valores enteros cualquiera (elije un número entero aleatorio) a dos variables con nombre `a` y `b`. Utiliza las variables definidas anteriormente para evaluar la siguiente expresión matemática:\n",
    "\n",
    "( a<sup>2</sup> + b<sup>2</sup> )<sup>2</sup>\n"
   ]
  },
  {
   "cell_type": "code",
   "execution_count": 61,
   "metadata": {},
   "outputs": [
    {
     "name": "stdout",
     "output_type": "stream",
     "text": [
      "a=  5 b=  1\n",
      "(a^2+ b^2 )^2 =  676\n"
     ]
    }
   ],
   "source": [
    "# Respuesta\n",
    "import random\n",
    "a = random.randint(1,9)\n",
    "b = random.randint(1,2)\n",
    "print(\"a= \", a, \"b= \",b)\n",
    "cuadrados = (a**2+b**2)**2\n",
    "print(\"(a^2+ b^2 )^2 = \", cuadrados)"
   ]
  },
  {
   "cell_type": "markdown",
   "metadata": {},
   "source": [
    "### Ejercicio 4\n",
    "\n",
    "Escribir un programa que calcule el volumen de una pirámide cuadrangular con una base de 4x5 metros de longitud y anchura respectivamente, y con una altura de 7,5 m. Recuerda que la fórmula para calcular el volumen es <img src=\"https://wikimedia.org/api/rest_v1/media/math/render/svg/5bbc1ec5d10639d395ebc85e74cbf697d2220035\" title=\"EquacioVolumPiramide\" />\n",
    "\n",
    "donde _l_ y _w_ son la longitud y la anchura de la base, y _h_ es la altura."
   ]
  },
  {
   "cell_type": "code",
   "execution_count": 63,
   "metadata": {},
   "outputs": [
    {
     "name": "stdout",
     "output_type": "stream",
     "text": [
      "El volumen de la pirámide cuadrangular dada es:  50.0\n"
     ]
    }
   ],
   "source": [
    "# Respuesta\n",
    "l=4\n",
    "w=5\n",
    "h=7.5\n",
    "\n",
    "def vol(l,w,h):\n",
    "    '''\n",
    "    Esta función recoge la longitud y anchura de la base y la altura \n",
    "    de la pirámide cuadrangular y devuelve su volumen\n",
    "\n",
    "    Arg:\n",
    "    ----\n",
    "        l: longitud base\n",
    "        w: anchura base\n",
    "        h: altura\n",
    "\n",
    "    \n",
    "    Return\n",
    "    ----\n",
    "        volumen\n",
    "\n",
    "    '''\n",
    "    vol = (1/3)*l*h*w\n",
    "    return vol\n",
    "\n",
    "\n",
    "\n",
    "print(\"El volumen de la pirámide cuadrangular dada es: \", vol(l,w,h))"
   ]
  },
  {
   "cell_type": "markdown",
   "metadata": {},
   "source": [
    "### Ejercicio 5\n",
    "\n",
    "Escribe un programa que defina una lista con el nombre de todos los meses del año. Haz que muestre los meses que corresponden a otoño."
   ]
  },
  {
   "cell_type": "code",
   "execution_count": 98,
   "metadata": {},
   "outputs": [
    {
     "name": "stdout",
     "output_type": "stream",
     "text": [
      "Los meses que corresponden al otoño son:  ['Diciembre', 'Septiembre', 'Octubre', 'Noviembre']\n"
     ]
    }
   ],
   "source": [
    "# Respuesta\n",
    "from datetime import datetime\n",
    "\n",
    "def meses(estacion):\n",
    "    '''\n",
    "    Esta función devuelve los meses correspondientes a la estación introducida\n",
    "\n",
    "    Arg:\n",
    "    ----\n",
    "        invierno, primavera, verano, otoño\n",
    "\n",
    "    \n",
    "    Return\n",
    "    ----\n",
    "        estación\n",
    "\n",
    "    '''\n",
    "    meses = (\"Diciembre\", \"Enero\", \"Febrero\", \"Marzo\", \"Abri\", \"Mayo\", \"Junio\", \"Julio\", \"Agosto\", \"Septiembre\", \"Octubre\", \"Noviembre\")\n",
    "    invierno=[i for i in meses if meses.index(i) <=3]\n",
    "    primavera=[i for i in meses if 3<=meses.index(i) <7]\n",
    "    verano=[i for i in meses if 6<=meses.index(i) <10]\n",
    "    otoño=[i for i in meses if 9<=meses.index(i) <12 or meses.index(i)==0]\n",
    "\n",
    "    if estacion==\"invierno\":\n",
    "        return invierno\n",
    "    elif estacion==\"primavera\":\n",
    "        return primavera\n",
    "    elif estacion==\"verano\":\n",
    "        return verano\n",
    "    elif estacion==\"otoño\":\n",
    "        return otoño\n",
    "    else:\n",
    "        print(\"No ha ingresado una estación\")\n",
    "        \n",
    "# print(meses(\"invierno\"))\n",
    "# print(meses(\"primavera\"))\n",
    "# print(meses(\"verano\"))\n",
    "print(\"Los meses que corresponden al otoño son: \", meses(\"otoño\"))"
   ]
  },
  {
   "cell_type": "markdown",
   "metadata": {},
   "source": [
    "### Ejercicio 6\n",
    "\n",
    "Escribe un programa que a partir de la lista de números dada muestre por pantalla una cadena de caracteres con todos los números, separados entre sí por un guión, y duplicando el primero y el último elemento de la lista.\n",
    "\n",
    "Así, por ejemplo, para la lista ['1', '2', '3'] , el programa debería mostrar la cadena: '1-1-2-3-3'.\n"
   ]
  },
  {
   "cell_type": "code",
   "execution_count": 113,
   "metadata": {},
   "outputs": [
    {
     "name": "stdout",
     "output_type": "stream",
     "text": [
      "1-1-2-3-3\n"
     ]
    }
   ],
   "source": [
    "# Respuesta\n",
    "lista=[1,2,3]\n",
    "new_lista=lista\n",
    "new_lista.append(lista[len(lista)-1])\n",
    "new_lista.insert(0, lista[0])\n",
    "\n",
    "string=\"-\".join([str(i) for i in new_lista])\n",
    "print(string)\n",
    "\n",
    "    \n"
   ]
  },
  {
   "cell_type": "markdown",
   "metadata": {},
   "source": [
    "### Ejercicio 7\n",
    "\n",
    "Ordena la siguiente lista de cadenas de caracteres:\n",
    "\n",
    "1. Invirtiendo el orden original\n",
    "2. En orden alfabético inverso\n",
    "\n",
    "**Nota**: Puedes consultar la documentación oficial de la función [`sorted ()`](https://docs.python.org/3/library/functions.html#sorted) para ver qué parámetros puedes utilizar para resolver la segunda parte de la actividad.\n"
   ]
  },
  {
   "cell_type": "code",
   "execution_count": 124,
   "metadata": {},
   "outputs": [
    {
     "name": "stdout",
     "output_type": "stream",
     "text": [
      "Invirtiendo el orden original queda:  ['Jadzia Dax', 'Quark', 'Odo', 'Kira Nerys', 'Benjamin Sisko']\n",
      "En orden alfabetico inverso queda:  ['Quark', 'Odo', 'Kira Nerys', 'Jadzia Dax', 'Benjamin Sisko']\n"
     ]
    }
   ],
   "source": [
    "st_chars = [\"Benjamin Sisko\", \"Kira Nerys\", \"Odo\", \"Quark\", \"Jadzia Dax\"]\n",
    "st_chars.reverse()\n",
    "print(\"Invirtiendo el orden original queda: \", st_chars)\n",
    "st_chars.sort(reverse=True)\n",
    "print(\"En orden alfabetico inverso queda: \", st_chars)"
   ]
  },
  {
   "cell_type": "markdown",
   "metadata": {},
   "source": [
    "### Ejercicio 8\n",
    "\n",
    "A partir de la siguiente lista,\n",
    "\n",
    "```A_list = [42, 7.5, \"Answer to the Ultimate Question\", \"Dave\", 7.5]```\n",
    "\n",
    "proporciona expresiones que retornen:\n",
    "\n",
    "1. El número de veces que aparece el elemento `7.5` en la lista.\n",
    "2. La posición de la primera aparición del valor `7.5`.\n",
    "3. La misma lista sin el último elemento.\n",
    "\n",
    "**Nota**: En el notebook de teoría hemos visto que son las listas y algunas operaciones sobre ellas. Para hacer la actividad, necesitaréis investigar algunas operaciones adicionales que podemos realizar sobre listas. Para ello podéis consultar la documentación oficial de Python sobre listas ([intro](https://docs.python.org/3/tutorial/introduction.html#lists) y [más sobre listas](https://docs.python.org/3/tutorial/datastructures.html#more-on-lists))."
   ]
  },
  {
   "cell_type": "code",
   "execution_count": 129,
   "metadata": {},
   "outputs": [
    {
     "name": "stdout",
     "output_type": "stream",
     "text": [
      "El número de veces que aparece el elemento `7.5` en la lista es:  2\n",
      "La posición de la primera aparición del valor `7.5` es:  1\n",
      "La misma lista sin el último elemento queda:  [42, 7.5, 'Answer to the Ultimate Question', 'Dave']\n"
     ]
    }
   ],
   "source": [
    "# Respuesta\n",
    "A_list = [42, 7.5, \"Answer to the Ultimate Question\", \"Dave\", 7.5]\n",
    "\n",
    "print(\"El número de veces que aparece el elemento `7.5` en la lista es: \", A_list.count(7.5))\n",
    "print(\"La posición de la primera aparición del valor `7.5` es: \", A_list.index(7.5))\n",
    "A_list.pop()\n",
    "print(\"La misma lista sin el último elemento queda: \", A_list  )"
   ]
  },
  {
   "cell_type": "markdown",
   "metadata": {},
   "source": [
    "### Ejercicio 9\n",
    "\n",
    "¿Qué expresión en Python necesitamos para conseguir la _string_ `Learning Python` utilizando sólo las variables` str1` y `str2` definidas?"
   ]
  },
  {
   "cell_type": "code",
   "execution_count": 133,
   "metadata": {},
   "outputs": [
    {
     "name": "stdout",
     "output_type": "stream",
     "text": [
      "Learning Python\n"
     ]
    }
   ],
   "source": [
    "# Respuesta\n",
    "str1 = \"Learning\"\n",
    "str2= \"Python\"\n",
    "string=str1+ \" \"+ str2\n",
    "print(string)"
   ]
  },
  {
   "cell_type": "markdown",
   "metadata": {},
   "source": [
    "### Ejercicio 10\n",
    "\n",
    "El codigo que se presenta a continuación no funciona: \n",
    "\n",
    "Corrige el error y explica por qué sucede."
   ]
  },
  {
   "cell_type": "code",
   "execution_count": 139,
   "metadata": {},
   "outputs": [
    {
     "name": "stdout",
     "output_type": "stream",
     "text": [
      "Hello, my name is Alex and I'm 20 years old!\n"
     ]
    }
   ],
   "source": [
    "name = \"Alex\"\n",
    "\n",
    "age = 20\n",
    "\n",
    "print(\"Hello, my name is %s and I'm %d years old!\"% (name, age))"
   ]
  },
  {
   "cell_type": "markdown",
   "metadata": {},
   "source": [
    "### Ejercicio 11\n",
    "\n",
    "En este ejercicio utilizaremos la frase: La paciencia es la madre de la ciencia.\n",
    "\n",
    "a) Extrae las palabras paciencia y ciencia de la cadena de strings definida anteriormente.\n",
    "\n",
    "b) Crea la palabra ciencia a partir de paciencia, y la palabra paciencia a partir de ciencia.\n",
    "\n",
    "c) Separa la frase en las diferentes palabras que la forman (e.g. \"La\", \"paciencia,\" es \", etc). ¿Cuál es el separador que debemos usar?\n",
    "\n",
    "d) Vuelve a unir los elementos de la frase mediante \"-\" (e.g. \"La-paciencia-es ...\").\n"
   ]
  },
  {
   "cell_type": "code",
   "execution_count": 155,
   "metadata": {},
   "outputs": [
    {
     "name": "stdout",
     "output_type": "stream",
     "text": [
      "paciencia ciencia\n",
      "ciencia paciencia\n",
      "['La', 'paciencia', 'es', 'la', 'madre', 'de', 'la', 'ciencia.']\n",
      "La-paciencia-es-la-madre-de-la-ciencia.\n"
     ]
    }
   ],
   "source": [
    "# Respuesta\n",
    "frase = \"La paciencia es la madre de la ciencia.\"\n",
    "#a)\n",
    "paciencia = frase[3:12]\n",
    "ciencia = frase[-8:-1]\n",
    "print(paciencia, ciencia)\n",
    "#b)\n",
    "ciencia= paciencia[2:]\n",
    "paciencia = \"pa\"+ ciencia\n",
    "print(ciencia, paciencia)\n",
    "#c)\n",
    "separada = frase.split(\" \")\n",
    "print(separada)\n",
    "#d)\n",
    "junta =\"-\".join([str(i) for i in separada])\n",
    "print(junta)\n",
    "\n",
    "\n"
   ]
  }
 ],
 "metadata": {
  "interpreter": {
   "hash": "3a457f06cda4579c7033761bf4e886c4764e74b759b9220f07c03aa5d4880471"
  },
  "kernelspec": {
   "display_name": "Python 3.9.5 ('data_science_py395')",
   "language": "python",
   "name": "python3"
  },
  "language_info": {
   "codemirror_mode": {
    "name": "ipython",
    "version": 3
   },
   "file_extension": ".py",
   "mimetype": "text/x-python",
   "name": "python",
   "nbconvert_exporter": "python",
   "pygments_lexer": "ipython3",
   "version": "3.9.5"
  },
  "orig_nbformat": 4
 },
 "nbformat": 4,
 "nbformat_minor": 2
}
