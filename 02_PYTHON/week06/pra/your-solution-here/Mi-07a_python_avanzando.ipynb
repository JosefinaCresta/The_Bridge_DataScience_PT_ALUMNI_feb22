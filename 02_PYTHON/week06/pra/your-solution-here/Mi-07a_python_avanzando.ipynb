{
 "cells": [
  {
   "cell_type": "markdown",
   "metadata": {},
   "source": [
    "Programación para *Data Science*\n",
    "============================\n",
    "\n",
    "Intro101 - 07a Conceptos avanzados de Python\n",
    "--------------------------------------\n",
    "\n",
    "En este Notebook encontraréis dos conjuntos de ejercicios de Python."
   ]
  },
  {
   "cell_type": "markdown",
   "metadata": {},
   "source": [
    "### Ejercicio 1\n",
    "\n",
    "Un número primo es aquél que solo es divisible por él mismo y por 1.\n",
    "\n",
    "a) Escribe un código que compruebe si un número `x = 15` es solo divisible por 1 o por el mismo.  Escribe este código usando un iterador (un `for` o un `while`) que barra todos los valores desde `2` a `x-1`. Crea una variable `divisible`  que tenga por defecto valor `False` y asigne el valor `True` si a lo largo de la iteración encuentra un número natural divisible. Puedes usar el operador modulo `a % b` para saber si un numero `b` es divisible por `a`."
   ]
  },
  {
   "cell_type": "code",
   "execution_count": 3,
   "metadata": {},
   "outputs": [
    {
     "name": "stdout",
     "output_type": "stream",
     "text": [
      "15 Es divisible por  3 --> No es primo True\n",
      "15 Es divisible por  5 --> No es primo True\n"
     ]
    }
   ],
   "source": [
    "# Respuesta\n",
    "x=15\n",
    "\n",
    "for i in range(2, x):\n",
    "    divisible=False\n",
    "    \n",
    "    if (x%i==0):\n",
    "        divisible=True\n",
    "        print(x, \"Es divisible por \", i, \"--> No es primo\", divisible)"
   ]
  },
  {
   "cell_type": "markdown",
   "metadata": {},
   "source": [
    "b) Convierte tu código anterior en una función que compruebe si el número del argumento es primo o no, devolviendo True is es primo y False si no es primo. Comprueba tu función con los valores 492366587, 492366585, 48947 y 2,\n"
   ]
  },
  {
   "cell_type": "code",
   "execution_count": 4,
   "metadata": {},
   "outputs": [],
   "source": [
    "# Respuesta\n",
    "def es_primo(x):\n",
    "    for i in range(2, x):\n",
    "    \n",
    "        if (x%i==0):\n",
    "            print(x, \"Es divisible por \", i, \"--> No es primo\")\n",
    "            return False\n",
    "    return True"
   ]
  },
  {
   "cell_type": "code",
   "execution_count": 5,
   "metadata": {},
   "outputs": [
    {
     "name": "stdout",
     "output_type": "stream",
     "text": [
      "492366587 es primo? True \n",
      "\n",
      "492366585 Es divisible por  3 --> No es primo\n",
      "492366585 es primo? False \n",
      "\n",
      "48947 es primo? True \n",
      "\n",
      "2 es primo? True \n",
      "\n"
     ]
    }
   ],
   "source": [
    "#Comprobación: 492366587, 492366585, 48947 y 2,\n",
    "x=492366587\n",
    "print(x, \"es primo?\", es_primo(x), \"\\n\")\n",
    "\n",
    "x=492366585\n",
    "print(x, \"es primo?\", es_primo(x), \"\\n\")\n",
    "\n",
    "x=48947\n",
    "print(x, \"es primo?\", es_primo(x), \"\\n\")\n",
    "\n",
    "x=2\n",
    "print(x, \"es primo?\", es_primo(x), \"\\n\")"
   ]
  },
  {
   "cell_type": "markdown",
   "metadata": {},
   "source": [
    "c) En el cálculo de la función anterior, una vez se ha encontrado un número que es divisible dentro del rango ya no tiene sentido comprobar el resto de números del rango. Por ejemplo si 10 ya es divisble entre 2, ya no hace falta probar de 3 en adelante pues ya sabemos que el número no es primo. \n",
    "\n",
    "Modifica la función anterior de la siguiente forma: \n",
    "- Una vez se encuentra el divisor, la iteración se interrumpe para no probar el resto de enteros. \n",
    "- La función devuelve\n",
    "    - **Si es primo**: True\n",
    "    - **Si no es primo**, el primer divisor mayor que 1.\n",
    "    \n",
    "Puedes hacer uso del comando *break* dentro de un bucle para interrumpir este, puedes consultar más información sobre break en la documentación de python [aquí](https://docs.python.org/2/tutorial/controlflow.html).\n",
    "\n",
    "Comprueba tu función con los valores 492366585, 492366587, 48947 y 2,"
   ]
  },
  {
   "cell_type": "code",
   "execution_count": 6,
   "metadata": {},
   "outputs": [],
   "source": [
    "# Respuesta\n",
    "def es_primo(x):\n",
    "    for i in range(2, x):\n",
    "    \n",
    "        if (x%i==0):\n",
    "            print(x, \"Es divisible por \", i, \"--> Ya se sabe que no es primo--> Break\")\n",
    "            return False\n",
    "            break\n",
    "    return True"
   ]
  },
  {
   "cell_type": "code",
   "execution_count": 45,
   "metadata": {},
   "outputs": [
    {
     "name": "stdout",
     "output_type": "stream",
     "text": [
      "15 Es divisible por  3 --> Ya se sabe que no es primo--> Break\n",
      "15 es primo? False \n",
      "\n",
      "492366587 es primo? True \n",
      "\n",
      "492366585 Es divisible por  3 --> Ya se sabe que no es primo--> Break\n",
      "492366585 es primo? False \n",
      "\n",
      "48947 es primo? True \n",
      "\n",
      "2 es primo? True \n",
      "\n"
     ]
    }
   ],
   "source": [
    "#Comprobación: 492366587, 492366585, 48947 y 2,\n",
    "x=15\n",
    "print(x, \"es primo?\", es_primo(x), \"\\n\")\n",
    "\n",
    "x=492366587\n",
    "print(x, \"es primo?\", es_primo(x), \"\\n\")\n",
    "\n",
    "x=492366585\n",
    "print(x, \"es primo?\", es_primo(x), \"\\n\")\n",
    "\n",
    "x=48947\n",
    "print(x, \"es primo?\", es_primo(x), \"\\n\")\n",
    "\n",
    "x=2\n",
    "print(x, \"es primo?\", es_primo(x), \"\\n\")"
   ]
  },
  {
   "cell_type": "markdown",
   "metadata": {},
   "source": [
    "### Ejercicio 2\n",
    "\n",
    "La Covid-19 es una enfermedad producida por la infección del virus SARS-CoV-2. La infección es transmisible de persona a persona y su contagiosidad depende de la cantidad del virus en las vías respiratorias. Si cada persona contagiada transmite la enfermedad a $\\beta$ contactos en promedio por periodo de tiempo $t$, es posible estimar la evolución del contagio con un modelo matemático sencillo.\n",
    "\n",
    "Para $t=1$día, las transmisiones en España se han estimado a partir de su histórico de las semanas de Febrero y Marzo del 2020 una $\\beta = 0.35$ transmissiones por día por infectado.\n",
    "\n",
    "Durante un periodo de tiempo (por ejempo un día $d$) la tasa de nuevos contagios se puede estimar como  una proporción al número de contagiados del periodo anterior $N$: \n",
    "\n",
    "$ \\Delta N = N_{1} - N = \\beta \\cdot $ (1)\n",
    "\n",
    "Por tanto, podemos proyectar el número futuro de afectados como \n",
    "\n",
    "$ N_{1} = N + \\beta \\cdot N = (1+\\beta) \\cdot $ (2) \n",
    "\n",
    "En dos días:\n",
    "\n",
    "$ N_{2} = (1+\\beta) \\cdot N_{1} = (1+\\beta)^2 \\cdot $  (3)\n",
    "\n",
    "Y en general en D días tendremos \n",
    "\n",
    "$ N_{D} = (1+\\beta)^D \\cdot N$  (4)\n",
    " \n",
    "Asumiendo este sencillo modelo: \n",
    "\n",
    "a) Implementa una función de dos parámetros (N: población infectada inicial, D: número de días), que devuelva el cálculo de afectados para D días siguiendo la ecuación (4). Suponiendo una población afectada de 4250 (población afectada en españa a día 13 de Marzo de 2020), usa la función para calcular la población estimada en 1, 2, 7 y 30 días. "
   ]
  },
  {
   "cell_type": "code",
   "execution_count": 8,
   "metadata": {},
   "outputs": [],
   "source": [
    "# Respuesta\n",
    "def afectados_D(N, D):\n",
    "    b = 0.35\n",
    "    N_D = ((1+b)**D)*N\n",
    "    return int(N_D)"
   ]
  },
  {
   "cell_type": "code",
   "execution_count": 9,
   "metadata": {},
   "outputs": [
    {
     "name": "stdout",
     "output_type": "stream",
     "text": [
      "\n",
      " La poblacion afetada luego de  1 dias, es=  5737\n",
      "\n",
      " La poblacion afetada luego de  2 dias, es=  7745\n",
      "\n",
      " La poblacion afetada luego de  7 dias, es=  34731\n",
      "\n",
      " La poblacion afetada luego de  30 dias, es=  34546335\n"
     ]
    }
   ],
   "source": [
    "N_13_3_20 = 4250\n",
    "x=1\n",
    "print(\"\\n La poblacion afetada luego de \", x, \"dias, es= \", afectados_D(N_13_3_20, x) )\n",
    "\n",
    "x=2\n",
    "print(\"\\n La poblacion afetada luego de \", x, \"dias, es= \", afectados_D(N_13_3_20, x) )\n",
    "\n",
    "x=7\n",
    "print(\"\\n La poblacion afetada luego de \", x, \"dias, es= \", afectados_D(N_13_3_20, x) )\n",
    "\n",
    "x=30\n",
    "print(\"\\n La poblacion afetada luego de \", x, \"dias, es= \", afectados_D(N_13_3_20, x) )"
   ]
  },
  {
   "cell_type": "markdown",
   "metadata": {},
   "source": [
    "b) Sabiendo que los Servicios de Medicina Intensiva (SMI) disponen de 3363 camas para enfermos graves, y suponiendo que un 10% de los afectados por el covid-19 requerirán de SMI y una supervivencia del 2,5% (Exitus), escribe un código que calcule:\n",
    "- El día en curso (Día)\n",
    "- El total de afectados por el virus para cada día d (Afectados)\n",
    "- El total de ingresados en SMI por el virus para cada día d (Críticos)\n",
    "- El total de Exitus por el virus para cada día d (Exitus)\n",
    "- Si los servicios de SMI no pueden aceptar los ingresados para cada día $d$ (Estado: indicando Saturación/No Saturación)\n",
    "\n",
    "Imprime en pantalla la información de cada día durante una simulación de tres semanas, suponiendo que no hay recuperaciones, con una población afectada inicial 4250 y una $\\beta = 0.35$ constante. "
   ]
  },
  {
   "cell_type": "code",
   "execution_count": 10,
   "metadata": {},
   "outputs": [
    {
     "name": "stdout",
     "output_type": "stream",
     "text": [
      "Dia:  0\n",
      "\t Numero de Afectados: 4250\n",
      "\t Numero de Ingresos SMI: 425\n",
      "\t Numero de Exitos: 106\n",
      "\t\t Paciente en la SMI: 319\n",
      "\t\t No Saturación\n",
      "Dia:  1\n",
      "\t Numero de Afectados: 5737\n",
      "\t Numero de Ingresos SMI: 573\n",
      "\t Numero de Exitos: 143\n",
      "\t\t Paciente en la SMI: 430\n",
      "\t\t No Saturación\n",
      "Dia:  2\n",
      "\t Numero de Afectados: 7745\n",
      "\t Numero de Ingresos SMI: 774\n",
      "\t Numero de Exitos: 193\n",
      "\t\t Paciente en la SMI: 581\n",
      "\t\t No Saturación\n",
      "Dia:  3\n",
      "\t Numero de Afectados: 10456\n",
      "\t Numero de Ingresos SMI: 1045\n",
      "\t Numero de Exitos: 261\n",
      "\t\t Paciente en la SMI: 784\n",
      "\t\t No Saturación\n",
      "Dia:  4\n",
      "\t Numero de Afectados: 14116\n",
      "\t Numero de Ingresos SMI: 1411\n",
      "\t Numero de Exitos: 352\n",
      "\t\t Paciente en la SMI: 1059\n",
      "\t\t No Saturación\n",
      "Dia:  5\n",
      "\t Numero de Afectados: 19057\n",
      "\t Numero de Ingresos SMI: 1905\n",
      "\t Numero de Exitos: 476\n",
      "\t\t Paciente en la SMI: 1429\n",
      "\t\t No Saturación\n",
      "Dia:  6\n",
      "\t Numero de Afectados: 25727\n",
      "\t Numero de Ingresos SMI: 2572\n",
      "\t Numero de Exitos: 643\n",
      "\t\t Paciente en la SMI: 1929\n",
      "\t\t No Saturación\n",
      "Dia:  7\n",
      "\t Numero de Afectados: 34731\n",
      "\t Numero de Ingresos SMI: 3473\n",
      "\t Numero de Exitos: 868\n",
      "\t\t Paciente en la SMI: 2605\n",
      "\t\t No Saturación\n",
      "Dia:  8\n",
      "\t Numero de Afectados: 46887\n",
      "\t Numero de Ingresos SMI: 4688\n",
      "\t Numero de Exitos: 1172\n",
      "\t\t Paciente en la SMI: 3516\n",
      "\t\t No Saturación\n",
      "Dia:  9\n",
      "\t Numero de Afectados: 63298\n",
      "\t Numero de Ingresos SMI: 6329\n",
      "\t Numero de Exitos: 1582\n",
      "\t\t Paciente en la SMI: 4747\n",
      "\t\t No Saturación\n",
      "Dia:  10\n",
      "\t Numero de Afectados: 85452\n",
      "\t Numero de Ingresos SMI: 8545\n",
      "\t Numero de Exitos: 2136\n",
      "\t\t Paciente en la SMI: 6409\n",
      "\t\t No Saturación\n",
      "Dia:  11\n",
      "\t Numero de Afectados: 115361\n",
      "\t Numero de Ingresos SMI: 11536\n",
      "\t Numero de Exitos: 2884\n",
      "\t\t Paciente en la SMI: 8652\n",
      "\t\t No Saturación\n",
      "Dia:  12\n",
      "\t Numero de Afectados: 155737\n",
      "\t Numero de Ingresos SMI: 15573\n",
      "\t Numero de Exitos: 3893\n",
      "\t\t Paciente en la SMI: 11680\n",
      "\t\t No Saturación\n",
      "Dia:  13\n",
      "\t Numero de Afectados: 210246\n",
      "\t Numero de Ingresos SMI: 21024\n",
      "\t Numero de Exitos: 5256\n",
      "\t\t Paciente en la SMI: 15768\n",
      "\t\t No Saturación\n",
      "Dia:  14\n",
      "\t Numero de Afectados: 283832\n",
      "\t Numero de Ingresos SMI: 28383\n",
      "\t Numero de Exitos: 7095\n",
      "\t\t Paciente en la SMI: 21288\n",
      "\t\t No Saturación\n",
      "Dia:  15\n",
      "\t Numero de Afectados: 383173\n",
      "\t Numero de Ingresos SMI: 38317\n",
      "\t Numero de Exitos: 9579\n",
      "\t\t Paciente en la SMI: 28738\n",
      "\t\t No Saturación\n",
      "Dia:  16\n",
      "\t Numero de Afectados: 517284\n",
      "\t Numero de Ingresos SMI: 51728\n",
      "\t Numero de Exitos: 12932\n",
      "\t\t Paciente en la SMI: 38796\n",
      "\t\t No Saturación\n",
      "Dia:  17\n",
      "\t Numero de Afectados: 698333\n",
      "\t Numero de Ingresos SMI: 69833\n",
      "\t Numero de Exitos: 17458\n",
      "\t\t Paciente en la SMI: 52375\n",
      "\t\t No Saturación\n",
      "Dia:  18\n",
      "\t Numero de Afectados: 942750\n",
      "\t Numero de Ingresos SMI: 94275\n",
      "\t Numero de Exitos: 23568\n",
      "\t\t Paciente en la SMI: 70707\n",
      "\t\t No Saturación\n",
      "Dia:  19\n",
      "\t Numero de Afectados: 1272713\n",
      "\t Numero de Ingresos SMI: 127271\n",
      "\t Numero de Exitos: 31817\n",
      "\t\t Paciente en la SMI: 95454\n",
      "\t\t No Saturación\n",
      "Dia:  20\n",
      "\t Numero de Afectados: 1718162\n",
      "\t Numero de Ingresos SMI: 171816\n",
      "\t Numero de Exitos: 42954\n",
      "\t\t Paciente en la SMI: 128862\n",
      "\t\t No Saturación\n",
      "Dia:  21\n",
      "\t Numero de Afectados: 2319519\n",
      "\t Numero de Ingresos SMI: 231951\n",
      "\t Numero de Exitos: 57987\n",
      "\t\t Paciente en la SMI: 173964\n",
      "\t\t No Saturación\n"
     ]
    }
   ],
   "source": [
    "#Para 3 semanas\n",
    "for i in range(22):\n",
    "    N_1=4250\n",
    "    afectados_dia = afectados_D(N_1, i)\n",
    "    ingresos_SMI = int(afectados_D(N_1, i)*0.1)\n",
    "    exitus = int(afectados_D(N_1, i)*0.025)\n",
    "    print(\"Dia: \", i)\n",
    "    print(\"\\t Numero de Afectados:\", int(afectados_dia))\n",
    "    print(\"\\t Numero de Ingresos SMI:\", int(ingresos_SMI))\n",
    "    print(\"\\t Numero de Exitos:\", int(exitus))\n",
    "    print(\"\\t\\t Paciente en la SMI:\", int(ingresos_SMI)-int(exitus))\n",
    "    print(\"\\t\\t No Saturación\")\n",
    "\n",
    "                "
   ]
  },
  {
   "cell_type": "markdown",
   "metadata": {},
   "source": [
    "c) Convierte el código anterior en una función que genere un archivo de texto con nombre `output.txt`, siguiendo este formato: \n",
    "```\n",
    "Dia, Afectados, Críticos, Exitus, Estado\n",
    "0, 4250, 425,  106, No Saturación\n",
    "1, 5737, 573,  143, No Saturación\n",
    "2, 7745, 774,  193, No Saturación\n",
    "...\n",
    "```\n",
    "Con los parámetros de entrada $N$, $D$, $\\beta$, camas SMI."
   ]
  },
  {
   "cell_type": "code",
   "execution_count": 11,
   "metadata": {},
   "outputs": [],
   "source": [
    "# Respuesta\n",
    "#Creo el archivo en modo escritura \"w\" (Se sobreescribe si vuelvo a ejecutar)\n",
    "output = open(\"output.txt\", \"w\")\n",
    "#Escribo encabezado\n",
    "output.write('Dia, Afectados, Críticos, Exitus, Estado')\n",
    "\n",
    "for i in range(22):\n",
    "    N_1=4250\n",
    "    afectados_dia = int(afectados_D(N_1, i))\n",
    "    ingresos_SMI = int(afectados_D(N_1, i)*0.1)\n",
    "    exitus = int(afectados_D(N_1, i)*0.025)\n",
    "    # print(\"Dia: \", i)\n",
    "    # print(\"\\t Numero de Afectados:\", int(afectados_dia))\n",
    "    # print(\"\\t Numero de Ingresos SMI:\", int(ingresos_SMI))\n",
    "    # print(\"\\t Numero de Exitos:\", int(exitus))\n",
    "    # print(\"\\t\\t Paciente en la SMI:\", int(ingresos_SMI)-int(exitus))\n",
    "    # print(\"\\t\\t No Saturación\")\n",
    "    #Abro el archivo en modo \"a\", para agregar lineas\n",
    "    output = open(\"output.txt\", \"a\")\n",
    "    #Agegro info\n",
    "    output.write(f\"\\n {i},  {afectados_dia}, {ingresos_SMI}, {exitus}, No saturado\")\n",
    "output.close()                "
   ]
  },
  {
   "cell_type": "markdown",
   "metadata": {},
   "source": [
    "### Ejercicio 3\n",
    "\n",
    "Dado el siguiente diccionario:"
   ]
  },
  {
   "cell_type": "code",
   "execution_count": 12,
   "metadata": {},
   "outputs": [],
   "source": [
    "d = {\"Alex\":344334443, \"Eva\":5533443, \"Cristina\":443355, \"Jonas\":33223324}"
   ]
  },
  {
   "cell_type": "markdown",
   "metadata": {},
   "source": [
    "Escribid una función que pregunte al usuario que introduzca el nombre de una persona y muestre por pantalla el nombre de la persona y su teléfono. \n",
    "\n",
    "Tened en cuenta que:\n",
    "\n",
    "- La función debe controlar que el valor introducido por el usuario es un nombre que existe en el diccionario. En caso contrario, mostrará un mensaje de error (\"El nombre introducido no corresponde a ninguna persona\") y devolverá el valor False.\n",
    "- Debéis tener en cuenta que el nombre de las personas que nos pasan por parámetro puede ser en minúsculas, mayúsculas o una combinación de ambas, y que debemos encontrar el número de teléfono aunque la capitalización de la cadena entrada por el usuario no sea exactamente la misma que hemos almacenado en el diccionario.\n",
    "- Suponed que  no hay acentos en los nombres.\n",
    "\n",
    "Nota 1: Para realizar la actividad, tendréis que capturar un texto que entrará el usuario. Consultad la [documentación oficial de la función input](https://docs.python.org/3/library/functions.html#input) para ver cómo hacerlo.\n",
    "\n",
    "Nota 2: También tendréis que pensar cómo tratar el hecho de que el usuario pueda utilizar mayúsculas y minúsculas en la escritura del nombre en el diccionario. ¡Os animamos a usar un buscador para intentar encontrar alguna alternativa para resolver este subproblema! ¡Recordad citar las referencias que hayáis usado para resolverlo!\n"
   ]
  },
  {
   "cell_type": "code",
   "execution_count": 13,
   "metadata": {},
   "outputs": [],
   "source": [
    "d = {\"Alex\":344334443, \"Eva\":5533443, \"Cristina\":443355, \"Jonas\":33223324}\n",
    "# Respuesta"
   ]
  },
  {
   "cell_type": "code",
   "execution_count": 14,
   "metadata": {},
   "outputs": [],
   "source": [
    "def contacto(name):\n",
    "    nombre = name.lower()\n",
    "    d = {\"Alex\":344334443, \"Eva\":5533443, \"Cristina\":443355, \"Jonas\":33223324}\n",
    "    d = {k.lower() : v for (k,v) in d.items()}\n",
    "    if (nombre in d):\n",
    "        print(\"Nombre: \", name.capitalize(), \"\\nTel: \", d[nombre] )\n",
    "    else: \n",
    "        print(\"El nombre introducido no corresponde a ninguna persona\")\n",
    "        return False"
   ]
  },
  {
   "cell_type": "code",
   "execution_count": 15,
   "metadata": {},
   "outputs": [
    {
     "name": "stdout",
     "output_type": "stream",
     "text": [
      "Nombre:  Alex \n",
      "Tel:  344334443\n"
     ]
    }
   ],
   "source": [
    "name=input(\"Ingresar un nombre\")\n",
    "contacto(name)"
   ]
  },
  {
   "cell_type": "markdown",
   "metadata": {},
   "source": [
    "###  Ejercicio 4\n",
    "\n",
    "Python dispone de un **idiom** muy útil conocido como `list comprehension`. Utilizando este **idiom**, proporcionad una expresión que devuelva las listas siguientes.\n",
    "\n",
    "Nota: Para realizar esta actividad necesitaréis investigar qué son las `list comprehension` y qué sintaxis utilizan. Para ello, se recomienda en primer lugar que utilicéis un buscador para encontrar información genérica sobre esta construcción. Después, os recomendamos que consultéis stackoverflow para ver algunos ejemplos de problemas que se pueden resolver con esta construcción.\n",
    "\n",
    "\n",
    "[stackoverflow](https://stackoverflow.com/) es un sitio de preguntas-y-respuestas muy popular entre programadores. Veréis que para la gran mayoría de las dudas que tengáis, habrá alguien que ya les habrá tenido (y consultado) anteriormente! Así pues, más allá de preguntar vosotros mismos las dudas allí (nosotros ya tenemos el foro del aula para ello!), consultar esta web os permitirá ver qué soluciones proponen otros programadores a estas dudas. A menudo habrá más de una solución a un mismo problema, y podréis valorar cuál es la más adecuada para vuestro problema.\n",
    "\n",
    "Para ver ejemplos de problemas que son adecuados para resolver con **list comprehensions**, os recomendamos leer las siguientes páginas:\n",
    "* https://stackoverflow.com/questions/12555443/squaring-all-elements-in-a-list\n",
    "* https://stackoverflow.com/questions/18551458/how-to-frame-two-for-loops-in-list-comprehension-python\n",
    "* https://stackoverflow.com/questions/24442091/list-comprehension-with-condition\n",
    "* https://stackoverflow.com/questions/41676212/i-want-to-return-only-the-odd-numbers-in-a-list\n",
    "* https://stackoverflow.com/questions/4260280/if-else-in-a-list-comprehension\n"
   ]
  },
  {
   "cell_type": "markdown",
   "metadata": {},
   "source": [
    "a) Una lista con los valores $4 x^2$ donde $x$ es cada uno de los números de la lista `list_1`:"
   ]
  },
  {
   "cell_type": "code",
   "execution_count": 16,
   "metadata": {},
   "outputs": [
    {
     "data": {
      "text/plain": [
       "[4, 16, 36, 64, 100, 144, 196, 256, 324]"
      ]
     },
     "execution_count": 16,
     "metadata": {},
     "output_type": "execute_result"
    }
   ],
   "source": [
    "list_1 = [1, 2, 3, 4, 5, 6, 7, 8, 9]\n",
    "\n",
    "# Respuesta\n",
    "[4*i**2 for i in list_1]"
   ]
  },
  {
   "cell_type": "markdown",
   "metadata": {},
   "source": [
    "b) Una lista con los valores $x/(x+1)$ donde $x$ es cada uno de los números de la lista `list_1`:"
   ]
  },
  {
   "cell_type": "code",
   "execution_count": 17,
   "metadata": {},
   "outputs": [
    {
     "data": {
      "text/plain": [
       "[0.5,\n",
       " 0.6666666666666666,\n",
       " 0.75,\n",
       " 0.8,\n",
       " 0.8333333333333334,\n",
       " 0.8571428571428571,\n",
       " 0.875,\n",
       " 0.8888888888888888,\n",
       " 0.9]"
      ]
     },
     "execution_count": 17,
     "metadata": {},
     "output_type": "execute_result"
    }
   ],
   "source": [
    "list_1 = [1, 2, 3, 4, 5, 6, 7, 8, 9]\n",
    "\n",
    "# Respuesta\n",
    "[x/(x+1) for x in list_1]"
   ]
  },
  {
   "cell_type": "markdown",
   "metadata": {},
   "source": [
    "c) Una lista con los valores $4x^2/(4x^2-1)$ donde $x$ es cada uno de los números de la lista `list_1`:"
   ]
  },
  {
   "cell_type": "code",
   "execution_count": 18,
   "metadata": {},
   "outputs": [
    {
     "data": {
      "text/plain": [
       "[1.3333333333333333,\n",
       " 1.0666666666666667,\n",
       " 1.0285714285714285,\n",
       " 1.0158730158730158,\n",
       " 1.0101010101010102,\n",
       " 1.006993006993007,\n",
       " 1.005128205128205,\n",
       " 1.003921568627451,\n",
       " 1.0030959752321982]"
      ]
     },
     "execution_count": 18,
     "metadata": {},
     "output_type": "execute_result"
    }
   ],
   "source": [
    "list_1 = [1, 2, 3, 4, 5, 6, 7, 8, 9]\n",
    "\n",
    "# Respuesta\n",
    "[4*x**2/(4*x**2-1) for x in list_1]"
   ]
  },
  {
   "cell_type": "markdown",
   "metadata": {},
   "source": [
    "### Ejercicio 5\n",
    "\n",
    "El siguiente ejercicio consiste en pasar un número en base 16 (hexadecimal, 0-9/A-F) a base 10 (decimal). Para hacerlo, debéis crear una **función** que dado un _string_ que representa un número en hexadecimal, por ejemplo, `AE3F`, devuelva el número \n",
    "natural correspondiente. En este caso, el resultado sería `44607`."
   ]
  },
  {
   "cell_type": "markdown",
   "metadata": {},
   "source": [
    "### info: \n",
    "\n",
    "https://parzibyte.me/blog/2020/12/09/convertir-hexadecimal-decimal-python/\n",
    "\n",
    "\n",
    "Como sabes, hexadecimal maneja 16 caracteres que son los números del 0 al 9 pero además las letras de la A a la F, por lo que tendremos que crear una función que nos devuelva el valor numérico de cada letra (10 para A, 11 para B).\n",
    "\n",
    "Después de eso, el algoritmo es simple. Invertimos la cadena porque la debemos recorrer de derecha a izquierda, y como los ciclos solo van de izquierda a derecha, la invertimos para que el recorrido sea de derecha a izquierda según la cadena original.\n",
    "\n",
    "En cada iteración del ciclo vamos a elevar 16 a la posición del carácter en el que vamos, luego tomamos el dígito hexadecimal, obtenemos su valor numérico y lo multiplicamos por el resultado anteriormente obtenido.\n",
    "\n",
    "Finalmente vamos acumulando este resultado en el valor decimal que vamos a regresar al final del ciclo. Básicamente el programa ejecuta los siguientes pasos para, por ejemplo, el número FF:\n",
    "\n",
    "`Ingresa un número hexadecimal: FF`\\\n",
    "`Decimal es 0`\\\n",
    "`El verdadero valor de f es 15`\\\n",
    "`Elevamos 16 a la potencia 0, el resultado es 1`\\\n",
    "`Multiplicamos el número elevado por el valor del carácter actual: 15`\\\n",
    "`Ahora decimal es 15`\\\n",
    "`Decimal es 15`\\\n",
    "`El verdadero valor de f es 15`\\\n",
    "`Elevamos 16 a la potencia 1, el resultado es 16`\\\n",
    "`Multiplicamos el número elevado por el valor del carácter actual: 240`\\\n",
    "`Ahora decimal es 255`\\\n",
    "`El hexadecimal FF equivale a 255 en decimal`"
   ]
  },
  {
   "cell_type": "code",
   "execution_count": 19,
   "metadata": {},
   "outputs": [],
   "source": [
    "# Respuesta\n",
    "#Funcion que pasa las letras a su correspondiente valor numerico\n",
    "def valor_numerico(caracter_hexadecimal):\n",
    "    dict_valores = {\"f\": 15, \"e\": 14, \"d\": 13, \"c\": 12, \"b\": 11, \"a\": 10}\n",
    "    if caracter_hexadecimal in dict_valores:\n",
    "        return dict_valores[caracter_hexadecimal]\n",
    "    else:\n",
    "        return int(caracter_hexadecimal)\n",
    "\n",
    "#Funcion para pasar de hexadecimal a decimal\n",
    "def hexade_a_deci(hexadecimal):\n",
    "    print(hexadecimal)\n",
    "    # Convertir a minúsculas por las dudas que se ingrese en distintas capitalizaciones\n",
    "    hexadecimal = hexadecimal.lower()\n",
    "    # La debemos recorrer del final al principio, así que la invertimos\n",
    "    hexadecimal = hexadecimal[::-1]\n",
    "    decimal = 0\n",
    "    i = 0\n",
    "    for d in hexadecimal:\n",
    "        #tomamos un caracter\n",
    "        # Necesitamos su valor numerico\n",
    "        valor = valor_numerico(d)\n",
    "        #Elevamos 16 a la posicion i de este caracter d\n",
    "        elevado = 16 ** i\n",
    "        multi = elevado * valor\n",
    "        #Acumulamos\n",
    "        decimal += multi\n",
    "        print(f\"Caracter hexadecimal es {d}, pero su valor numerico es {valor}, y 16 elevado a su posición {i} da {elevado}\")\n",
    "        print(f\"Al multiplicar el número elevado por el valor del carácter actual da {multi}. Y hasta ahora tenemos el numero {decimal}\" )\n",
    "        #Aumentamos la posicion para seguir chequeando\n",
    "        i += 1\n",
    "    return decimal\n"
   ]
  },
  {
   "cell_type": "code",
   "execution_count": 20,
   "metadata": {},
   "outputs": [
    {
     "name": "stdout",
     "output_type": "stream",
     "text": [
      "AE3F\n",
      "Caracter hexadecimal es f, pero su valor numerico es 15, y 16 elevado a su posición 0 da 1\n",
      "Al multiplicar el número elevado por el valor del carácter actual da 15. Y hasta ahora tenemos el numero 15\n",
      "Caracter hexadecimal es 3, pero su valor numerico es 3, y 16 elevado a su posición 1 da 16\n",
      "Al multiplicar el número elevado por el valor del carácter actual da 48. Y hasta ahora tenemos el numero 63\n",
      "Caracter hexadecimal es e, pero su valor numerico es 14, y 16 elevado a su posición 2 da 256\n",
      "Al multiplicar el número elevado por el valor del carácter actual da 3584. Y hasta ahora tenemos el numero 3647\n",
      "Caracter hexadecimal es a, pero su valor numerico es 10, y 16 elevado a su posición 3 da 4096\n",
      "Al multiplicar el número elevado por el valor del carácter actual da 40960. Y hasta ahora tenemos el numero 44607\n"
     ]
    },
    {
     "data": {
      "text/plain": [
       "44607"
      ]
     },
     "execution_count": 20,
     "metadata": {},
     "output_type": "execute_result"
    }
   ],
   "source": [
    "#  Por ejemplo, `AE3F`, devuelva el número \n",
    "# natural correspondiente. En este caso, el resultado sería `44607`.\n",
    "hexade_a_deci(\"AE3F\")"
   ]
  },
  {
   "cell_type": "markdown",
   "metadata": {},
   "source": [
    "### Ejercicio 6\n",
    "\n",
    "Las excepciones son errores detectados en tiempo de ejecución. Pueden y deben ser manejadas por el programador para minimizar el riesgo de que un determinado programa falle de forma no controlada. Escribid, en lenguaje Python, cómo generar y capturar la siguiente excepción: **ZeroDivisionError**."
   ]
  },
  {
   "cell_type": "code",
   "execution_count": 21,
   "metadata": {},
   "outputs": [
    {
     "name": "stdout",
     "output_type": "stream",
     "text": [
      "No se ha podido realizar la división\n"
     ]
    }
   ],
   "source": [
    "def division(a,b):\n",
    "    try:\n",
    "        c = a/b\n",
    "        return c\n",
    "    except:\n",
    "        print(\"No se ha podido realizar la división\")\n",
    "\n",
    "a = 24; b = 0\n",
    "division(a,b)"
   ]
  },
  {
   "cell_type": "markdown",
   "metadata": {},
   "source": [
    "### Ejercicio 7\n",
    "\n",
    "Completad el código necesario para calcular el número de vocales y de consonantes respectivamente de un texto."
   ]
  },
  {
   "cell_type": "code",
   "execution_count": 22,
   "metadata": {},
   "outputs": [
    {
     "name": "stdout",
     "output_type": "stream",
     "text": [
      "El número de vocales es 41.\n",
      "El número de consonantes es 104.\n"
     ]
    }
   ],
   "source": [
    "def contar_vocales_y_consonantes(texto):\n",
    "    # Cuenta las vocales contenidas en el string texto y también las consonantes.\n",
    "    num_vocales = 0\n",
    "    num_consonantes = 0\n",
    "    ####### Lo que agrego ######\n",
    "    texto.lower()\n",
    "    vocales = [\"a\",\"e\", \"i\", \"o\",\"u\"]\n",
    "    for i in texto:\n",
    "        if (i in vocales):\n",
    "            num_vocales +=1\n",
    "        else :\n",
    "            num_consonantes +=1\n",
    "\n",
    "    ####### ###### ##### #######\n",
    "\n",
    "    return num_vocales, num_consonantes\n",
    "\n",
    "texto = \"Orbiting Earth in the spaceship, I saw how beautiful our planet is. \\\n",
    "            People, let us preserve and increase this beauty, not destroy it!\"\n",
    "\n",
    "num_vocales, num_consonantes = contar_vocales_y_consonantes(texto)\n",
    "print(\"El número de vocales es %d.\" % num_vocales)\n",
    "print(\"El número de consonantes es %d.\" % num_consonantes)"
   ]
  },
  {
   "cell_type": "markdown",
   "metadata": {},
   "source": [
    "### Ejercicio 8\n",
    "\n",
    "Escribid una función que dada una lista de planetas del sistema solar, pregunte al usuario que introduzca una posición y muestre el plante correspondiente a dicha posición. Por ejemplo, si tenemos la siguiente lista: `['Mercurio', 'Venus', 'Tierra', 'Marte']` y el usuario nos ha introducido la posición `3`, hemos de mostrar como resultado por pantalla: `Tierra`.\n",
    "\n",
    "Consideraciones:\n",
    "\n",
    "- La posición que introduzca el usuario tiene que ser un número entero estrictamente positivo.\n",
    "- La función debe controlar el acceso a una posición fuera de la lista mediante una **excepción**. Por ejemplo, en el caso anterior debemos mostrar una mensaje de error si el usuario pide acceder a la posición 10."
   ]
  },
  {
   "cell_type": "code",
   "execution_count": 205,
   "metadata": {},
   "outputs": [],
   "source": [
    "# Respuesta"
   ]
  },
  {
   "cell_type": "code",
   "execution_count": 23,
   "metadata": {},
   "outputs": [],
   "source": [
    "def planeta(posicion):\n",
    "    planetas=[\"Mercurio\", \"Venus\", \"Tierra\" , \"Marte\", \"Júpiter\",  \"Saturno\" , \"Urano\", \"Neptuno\" , \"Plutón\"]\n",
    "    try:\n",
    "        0 < posicion < len(planetas)\n",
    "        return planetas[posicion]\n",
    "    except:\n",
    "        print(\"Valor introducido no corresponde a un planeta \")"
   ]
  },
  {
   "cell_type": "code",
   "execution_count": 24,
   "metadata": {},
   "outputs": [
    {
     "data": {
      "text/plain": [
       "'Urano'"
      ]
     },
     "execution_count": 24,
     "metadata": {},
     "output_type": "execute_result"
    }
   ],
   "source": [
    "planeta(6)"
   ]
  },
  {
   "cell_type": "markdown",
   "metadata": {},
   "source": [
    "### Ejercicio 9\n",
    "\n",
    "Dada una lista de planetas del sistema solar, determinad cuales de estos planetas tienen una masa superior a la de la Tierra. Por ejemplo, si la lista inicial es `['Venus', 'Marte', 'Saturno']`, el resultado que mostraríamos por pantalla sería `['Saturno']` ya que el planeta Saturno tiene una masa `95.2` veces superior a la Tierra.\n",
    "\n",
    "Consideraciones:\n",
    "\n",
    "- Debéis tener en cuenta que el nombre de los planetas que nos pasan por parámetro puede estar en minúsculas, mayúsculas o una combinación de ambas.\n",
    "- Podéis asumir que no habrá acentos en el nombre de los planetas.\n",
    "- Debéis determinar aquellos planetas que tiene una massa estrictamente superior a la de la Tierra.\n",
    "- No habrá planetas repetidos en la lista que nos pasan por parámetro."
   ]
  },
  {
   "cell_type": "code",
   "execution_count": 26,
   "metadata": {},
   "outputs": [],
   "source": [
    "masas = {'Mercurio': 0.06, 'Venus': 0.82, 'Tierra': 1, 'Marte': 0.11, 'Jupiter': 317.8, \n",
    "          'Saturno': 95.2, 'Urano': 14.6, 'Neptuno': 17.2, 'Pluto': 0.0022}"
   ]
  },
  {
   "cell_type": "code",
   "execution_count": 27,
   "metadata": {},
   "outputs": [
    {
     "name": "stdout",
     "output_type": "stream",
     "text": [
      "[]\n",
      "['Jupiter', 'Saturno']\n",
      "['Urano', 'Neptuno']\n",
      "['Saturno']\n"
     ]
    }
   ],
   "source": [
    "def planetas_mas_grandes_que_Tierra(planetas):\n",
    "    \"\"\"\n",
    "    Planetas con una masa superior a la de la Tierra\n",
    "    \"\"\"\n",
    "    planetas_masa_superior = []\n",
    "\n",
    "    ####### Lo que agrego ###### ###### ###### ##### #######\n",
    "    masas = {'Mercurio': 0.06, 'Venus': 0.82, 'Tierra': 1, 'Marte': 0.11, 'Jupiter': 317.8, \n",
    "          'Saturno': 95.2, 'Urano': 14.6, 'Neptuno': 17.2, 'Pluto': 0.0022}\n",
    "\n",
    "    for planeta in planetas:\n",
    "\n",
    "        planeta = planeta.lower()\n",
    "        planeta = planeta.capitalize()\n",
    "\n",
    "        if (masas[planeta]>masas[\"Tierra\"]):\n",
    "            planetas_masa_superior.append(planeta)\n",
    "\n",
    "    ####### ###### ##### ####### ###### ###### ##### #######\n",
    "\n",
    "\n",
    "    return planetas_masa_superior\n",
    "\n",
    "# Ejemplos de uso de la función anterior\n",
    "print(planetas_mas_grandes_que_Tierra(['Venus', 'Mercurio', 'Marte']))\n",
    "print(planetas_mas_grandes_que_Tierra(['Jupiter', 'Saturno', 'Pluto']))\n",
    "print(planetas_mas_grandes_que_Tierra(['urano', 'tierra', 'neptuno', 'marte', 'Venus']))\n",
    "print(planetas_mas_grandes_que_Tierra(['Tierra', 'MeRcUrIo', 'PLUTO', 'SATURNO']))\n",
    "\n",
    "# Podéis añadir más ejemplos si lo consideráis oportuno"
   ]
  },
  {
   "cell_type": "markdown",
   "metadata": {},
   "source": [
    "### Ejercicio 10\n",
    "\n",
    "Dada una cadena de caracteres, `s`, de longitud `n` y un número entero positivo `k`, siendo `k` un divisor de `n`, podemos dividir la cadena `s` en `n / k` sub-cadenas de la misma longitud.\n",
    "\n",
    "Escribid una función que, dada una cadena `s` y un número entero `k`, devuelva las `n/k` sub-cadenas teniendo en cuenta las siguientes consideraciones:\n",
    "\n",
    "- El orden de los caracteres en las sub-cadenas debe ser el mismo que en la cadena original.\n",
    "- Todos los caracteres de las sub-cadenas deben aparecer una única vez. Es decir, si un caracter se repite dentro de una sub-cadena, sólo hemos de mostrar la primera ocurrencia.\n",
    "\n",
    "Por ejemplo, si tenemmos\n",
    "<code>\n",
    "s = AABCCAADA\n",
    "k = 3\n",
    "</code>\n",
    "\n",
    "el resultado a mostrar por pantalla sería:\n",
    "<code>\n",
    "AB\n",
    "CA\n",
    "AD\n",
    "</code>\n",
    "\n",
    "Tenemos que la longitud de la cadena es 9 y por lo tanto, podemos formar 3 sub-cadenas:\n",
    "\n",
    "`AAB -> AB` (el caracter A se repite dos veces)\n",
    "\n",
    "`CCA -> CA` (el caracter C se repite dos veces)\n",
    "\n",
    "`ADA -> AD` (el caracter A se repite dos veces)"
   ]
  },
  {
   "cell_type": "code",
   "execution_count": 28,
   "metadata": {},
   "outputs": [
    {
     "name": "stdout",
     "output_type": "stream",
     "text": [
      "9\n",
      "3\n",
      "AAB\n",
      "CCA\n",
      "ADA\n"
     ]
    }
   ],
   "source": [
    "# Esto es una prueba \n",
    "# TRY 1\n",
    "def subcadenas(cadena, k):\n",
    "    n=len(cadena)\n",
    "    print(n)\n",
    "    cant_subint = int(n/k)\n",
    "    print(cant_subint)\n",
    "    print(cadena[:cant_subint])\n",
    "    print(cadena[cant_subint:2*(cant_subint)])\n",
    "    print(cadena[2*cant_subint:3*(cant_subint)])\n",
    "    # for i in range(cant_subint):\n",
    "    #     for j in cadena[:cant_subint]\n",
    "\n",
    "    \n",
    "subcadenas(\"AABCCAADA\", 3)"
   ]
  },
  {
   "cell_type": "code",
   "execution_count": 32,
   "metadata": {},
   "outputs": [
    {
     "name": "stdout",
     "output_type": "stream",
     "text": [
      "Cantidad de caracteres:  9\n",
      "cantidad intervalos:  3\n",
      "AAB\n",
      "CCA\n",
      "ADA\n"
     ]
    }
   ],
   "source": [
    "# Esto es una prueba \n",
    "# TRY 2\n",
    "def subcadenas(cadena, k):\n",
    "    n=len(cadena)\n",
    "    print(\"Cantidad de caracteres: \", n)\n",
    "    cant_subint = int(n/k)\n",
    "    print(\"cantidad intervalos: \", cant_subint)\n",
    "    for i in range(0, int(n/k)):\n",
    "        print(cadena[i*cant_subint:(i+1)*(cant_subint)])\n",
    "\n",
    "subcadenas(\"AABCCAADA\", 3)"
   ]
  },
  {
   "cell_type": "code",
   "execution_count": 33,
   "metadata": {},
   "outputs": [
    {
     "name": "stdout",
     "output_type": "stream",
     "text": [
      "Cantidad de caracteres:  4\n",
      "cantidad intervalos:  2\n",
      "AA\n",
      "AA\n"
     ]
    }
   ],
   "source": [
    "# Esto es una prueba \n",
    "# TRY 3\n",
    "\n",
    "\n",
    "subcadenas(\"AAAA\", 2)"
   ]
  }
 ],
 "metadata": {
  "interpreter": {
   "hash": "3a457f06cda4579c7033761bf4e886c4764e74b759b9220f07c03aa5d4880471"
  },
  "kernelspec": {
   "display_name": "Python 3.9.5 ('data_science_py395')",
   "language": "python",
   "name": "python3"
  },
  "language_info": {
   "codemirror_mode": {
    "name": "ipython",
    "version": 3
   },
   "file_extension": ".py",
   "mimetype": "text/x-python",
   "name": "python",
   "nbconvert_exporter": "python",
   "pygments_lexer": "ipython3",
   "version": "3.9.5"
  },
  "orig_nbformat": 4
 },
 "nbformat": 4,
 "nbformat_minor": 2
}
