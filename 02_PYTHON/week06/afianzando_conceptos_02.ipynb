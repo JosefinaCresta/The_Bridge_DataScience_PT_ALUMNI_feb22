{
 "cells": [
  {
   "cell_type": "markdown",
   "metadata": {},
   "source": [
    "##  Tuplas\n",
    "Las tuplas en Python son colecciones también ordenadas de elementos, posiblemente heterogéneos y con valores duplicados. Ahora bien, a diferencia de las listas, las tuplas son inmutables. Esto implica que, una vez definidas, no podremos añadir ni eliminar elementos de una tupla, ni tampoco modificarlos:"
   ]
  },
  {
   "cell_type": "code",
   "execution_count": 1,
   "metadata": {},
   "outputs": [
    {
     "name": "stdout",
     "output_type": "stream",
     "text": [
      "The tuple is:\n",
      "\t(1, 1, 3.5, 'strings also', [None, 4])\n"
     ]
    }
   ],
   "source": [
    "# Las tuplas pueden ser heterogéneas y tener duplicados\n",
    "a_tuple = (1, 1, 3.5, \"strings also\", [None, 4])\n",
    "print(\"The tuple is:\\n\\t{}\".format(a_tuple))"
   ]
  },
  {
   "cell_type": "code",
   "execution_count": 2,
   "metadata": {},
   "outputs": [
    {
     "data": {
      "text/plain": [
       "tuple"
      ]
     },
     "execution_count": 2,
     "metadata": {},
     "output_type": "execute_result"
    }
   ],
   "source": [
    "type(a_tuple)"
   ]
  },
  {
   "cell_type": "code",
   "execution_count": 3,
   "metadata": {},
   "outputs": [
    {
     "name": "stdout",
     "output_type": "stream",
     "text": [
      "The tuple is:\n",
      "\t(1, 1, 3.5, 'strings also', [None, 4])\n"
     ]
    }
   ],
   "source": [
    "# También podemos omitir los paréntesis en la definición de una tupla\n",
    "the_same_tuple = 1, 1, 3.5, \"strings also\", [None, 4]\n",
    "print(\"The tuple is:\\n\\t{}\".format(the_same_tuple))"
   ]
  },
  {
   "cell_type": "code",
   "execution_count": 4,
   "metadata": {},
   "outputs": [
    {
     "data": {
      "text/plain": [
       "tuple"
      ]
     },
     "execution_count": 4,
     "metadata": {},
     "output_type": "execute_result"
    }
   ],
   "source": [
    "type(the_same_tuple)"
   ]
  },
  {
   "cell_type": "code",
   "execution_count": 5,
   "metadata": {},
   "outputs": [
    {
     "name": "stdout",
     "output_type": "stream",
     "text": [
      "Are they equal:\n",
      "\tTrue\n"
     ]
    }
   ],
   "source": [
    "print(\"Are they equal:\\n\\t{}\".format(a_tuple == the_same_tuple))"
   ]
  },
  {
   "cell_type": "code",
   "execution_count": 6,
   "metadata": {},
   "outputs": [
    {
     "name": "stdout",
     "output_type": "stream",
     "text": [
      "First element is:\n",
      "\t1\n",
      "Second element is:\n",
      "\t1\n",
      "Third element is:\n",
      "\t3.5\n"
     ]
    }
   ],
   "source": [
    "# Las tuplas son colecciones ordenadas:\n",
    "print(\"First element is:\\n\\t{}\".format(a_tuple[0]))\n",
    "print(\"Second element is:\\n\\t{}\".format(a_tuple[1]))\n",
    "print(\"Third element is:\\n\\t{}\".format(a_tuple[2]))"
   ]
  },
  {
   "cell_type": "code",
   "execution_count": 2,
   "metadata": {},
   "outputs": [
    {
     "ename": "NameError",
     "evalue": "name 'a_tuple' is not defined",
     "output_type": "error",
     "traceback": [
      "\u001b[0;31m---------------------------------------------------------------------------\u001b[0m",
      "\u001b[0;31mNameError\u001b[0m                                 Traceback (most recent call last)",
      "\u001b[1;32m/Users/jofi/The_Bridge_DataScience_PT_ALUMNI_feb22/02_PYTHON/week06/afianzando_conceptos_02.ipynb Cell 8'\u001b[0m in \u001b[0;36m<module>\u001b[0;34m\u001b[0m\n\u001b[1;32m      <a href='vscode-notebook-cell:/Users/jofi/The_Bridge_DataScience_PT_ALUMNI_feb22/02_PYTHON/week06/afianzando_conceptos_02.ipynb#ch0000007?line=0'>1</a>\u001b[0m \u001b[39m# Las tuplas son inmutables\u001b[39;00m\n\u001b[1;32m      <a href='vscode-notebook-cell:/Users/jofi/The_Bridge_DataScience_PT_ALUMNI_feb22/02_PYTHON/week06/afianzando_conceptos_02.ipynb#ch0000007?line=1'>2</a>\u001b[0m \u001b[39mtry\u001b[39;00m:\n\u001b[0;32m----> <a href='vscode-notebook-cell:/Users/jofi/The_Bridge_DataScience_PT_ALUMNI_feb22/02_PYTHON/week06/afianzando_conceptos_02.ipynb#ch0000007?line=2'>3</a>\u001b[0m     \u001b[39mdel\u001b[39;00m a_tuple[\u001b[39m0\u001b[39m]\n\u001b[1;32m      <a href='vscode-notebook-cell:/Users/jofi/The_Bridge_DataScience_PT_ALUMNI_feb22/02_PYTHON/week06/afianzando_conceptos_02.ipynb#ch0000007?line=3'>4</a>\u001b[0m \u001b[39mexcept\u001b[39;00m \u001b[39mTypeError\u001b[39;00m \u001b[39mas\u001b[39;00m e:\n\u001b[1;32m      <a href='vscode-notebook-cell:/Users/jofi/The_Bridge_DataScience_PT_ALUMNI_feb22/02_PYTHON/week06/afianzando_conceptos_02.ipynb#ch0000007?line=4'>5</a>\u001b[0m     \u001b[39mprint\u001b[39m(e)\n",
      "\u001b[0;31mNameError\u001b[0m: name 'a_tuple' is not defined"
     ]
    }
   ],
   "source": [
    "# Las tuplas son inmutables\n",
    "try:\n",
    "    del a_tuple[0]\n",
    "except TypeError as e:\n",
    "    print(e)"
   ]
  },
  {
   "cell_type": "code",
   "execution_count": 16,
   "metadata": {},
   "outputs": [
    {
     "name": "stdout",
     "output_type": "stream",
     "text": [
      "'tuple' object doesn't support item deletion\n"
     ]
    }
   ],
   "source": [
    "# Las tuplas son inmutables\n",
    "try:\n",
    "    del a_tuple[0]\n",
    "except Exception as e:\n",
    "    print(e)\n",
    "finally:\n",
    "    pass"
   ]
  },
  {
   "cell_type": "markdown",
   "metadata": {},
   "source": [
    "```\n",
    "# definición de una función con try...except y finally con pass\n",
    "def nombre_function(arg1, arg2=None):\n",
    "    try:\n",
    "        EXECUTE CODE arg1\n",
    "        VALUE = arg1 + arg2\n",
    "        return VALUE\n",
    "    except Exception as e:\n",
    "        print(e)\n",
    "    finally:\n",
    "        continue / pass\n",
    "```\n",
    "\n",
    "* * *"
   ]
  },
  {
   "cell_type": "markdown",
   "metadata": {},
   "source": [
    "```\n",
    "def nombre_function(arg1, arg2=None):\n",
    "    try:\n",
    "        EXECUTE CODE arg1\n",
    "        VALUE = arg1 + arg2\n",
    "    except Exception as e:\n",
    "        print(e)\n",
    "    finally:\n",
    "        return VALUE\n",
    "```\n",
    "\n",
    "***"
   ]
  },
  {
   "cell_type": "markdown",
   "metadata": {},
   "source": [
    "```\n",
    "def nombre_function_1():\n",
    "    print(\"Hello\")\n",
    "\n",
    "\n",
    "def nombre_function(arg1, arg2=None):\n",
    "    try:\n",
    "        EXECUTE CODE arg1\n",
    "        VALUE = arg1 + arg2\n",
    "        return VALUE\n",
    "    except Exception as e:\n",
    "        print(e)\n",
    "    finally:\n",
    "        nombre_function_1()\n",
    "\n",
    "# Ejecuta la función principal y finaliza con otra función de print(\"Hello\")\n",
    "nombre_function(arg1)\n",
    "```"
   ]
  },
  {
   "cell_type": "markdown",
   "metadata": {},
   "source": [
    "***"
   ]
  },
  {
   "cell_type": "markdown",
   "metadata": {},
   "source": [
    "## Diccionarios\n",
    "Los diccionarios en Python son **colecciones sin orden** de elementos, posiblemente *heterogéneos* y **sin duplicados**.\n",
    "\n",
    "```\n",
    "diccionario_1 = {\n",
    "    \"key_3\" : \"valor_0\",\n",
    "    \"key_1\" : \"valor_1\",\n",
    "    \"key_2\" : \"valor_2\",\n",
    "    \"key_n\" : \"valor_2\",\n",
    "    \"key_int\" : 56,\n",
    "    \"key_float\": 78.9,\n",
    "    \"key_bool\": True,\n",
    "    \"key_object\": [1, 2, 3],\n",
    "    \"Key\" : \"valor\",\n",
    "    \"keyKey\": \"valor...\",\n",
    "    \"HOLA\" : \"valor_5\",\n",
    "    _id: 5677876989789\n",
    "\n",
    "}"
   ]
  },
  {
   "cell_type": "markdown",
   "metadata": {},
   "source": [
    "Los diccionarios son la implementación, en Python, de la estructura de datos \n",
    "que conocemos con el nombre de **array asociativo** o **map**.  Los diccionarios son colecciones de pares clave-valor, que además de las operaciones básicas de *inserción*, *modificación* y *eliminación*, también permiten *recuperar* los datos almacenados a través de la clave. La característica principal de esta estructura de datos es que no puede haber claves repetidas (cada clave aparece, como mucho, una única vez, y tiene por tanto un único valor asociado)."
   ]
  },
  {
   "cell_type": "code",
   "execution_count": 22,
   "metadata": {},
   "outputs": [
    {
     "data": {
      "text/plain": [
       "{'a': 5, 'b': 1}"
      ]
     },
     "execution_count": 22,
     "metadata": {},
     "output_type": "execute_result"
    }
   ],
   "source": [
    "# Intentamos crear un diccionario con una clave repetida (a)\n",
    "dict_0 = {\"a\": 0, \"b\": 1, \"a\": 1, \"a\" : 5}\n",
    "# Comprobamos como el diccionario tiene una única clave a:\n",
    "dict_0"
   ]
  },
  {
   "cell_type": "markdown",
   "metadata": {},
   "source": [
    "Ahora bien, un diccionario sí puede tener valores repetidos:"
   ]
  },
  {
   "cell_type": "code",
   "execution_count": 24,
   "metadata": {},
   "outputs": [
    {
     "data": {
      "text/plain": [
       "{'a': 0, 'b': 0, 'c': 0}"
      ]
     },
     "execution_count": 24,
     "metadata": {},
     "output_type": "execute_result"
    }
   ],
   "source": [
    "dict_0 = {\"a\": 0, \"b\": 0, \"c\": 0}\n",
    "dict_0"
   ]
  },
  {
   "cell_type": "code",
   "execution_count": 25,
   "metadata": {},
   "outputs": [
    {
     "name": "stdout",
     "output_type": "stream",
     "text": [
      "dict_0 is:\n",
      "\t{'a': 0, 'b': 0, 'c': 0}\n"
     ]
    }
   ],
   "source": [
    "# Añadimos un elemento a dict_0\n",
    "print(\"dict_0 is:\\n\\t{}\".format(dict_0))"
   ]
  },
  {
   "cell_type": "code",
   "execution_count": 26,
   "metadata": {},
   "outputs": [
    {
     "data": {
      "text/plain": [
       "{'a': 5, 'b': 0, 'c': 0}"
      ]
     },
     "execution_count": 26,
     "metadata": {},
     "output_type": "execute_result"
    }
   ],
   "source": [
    "# Creamos un nuevo valor a un key existente a través de asignación\n",
    "dict_0[\"a\"] = 5\n",
    "dict_0"
   ]
  },
  {
   "cell_type": "code",
   "execution_count": 27,
   "metadata": {},
   "outputs": [
    {
     "name": "stdout",
     "output_type": "stream",
     "text": [
      "After updating a, dict_0 is:\n",
      "\t{'a': -5, 'b': 0, 'c': 0}\n"
     ]
    }
   ],
   "source": [
    "# Actualizamos un elemento de dict_0\n",
    "dict_0['a'] = -5\n",
    "print(\"After updating a, dict_0 is:\\n\\t{}\".format(dict_0))"
   ]
  },
  {
   "cell_type": "code",
   "execution_count": 28,
   "metadata": {},
   "outputs": [
    {
     "name": "stdout",
     "output_type": "stream",
     "text": [
      "After deleting b, dict_0 is:\n",
      "\t{'a': -5, 'c': 0}\n"
     ]
    }
   ],
   "source": [
    "# Eliminamos un elemento de dict_0\n",
    "del dict_0['b']\n",
    "print(\"After deleting b, dict_0 is:\\n\\t{}\".format(dict_0))"
   ]
  },
  {
   "cell_type": "code",
   "execution_count": 31,
   "metadata": {},
   "outputs": [
    {
     "data": {
      "text/plain": [
       "{'a': -5, 'c': 0, 'd': 6}"
      ]
     },
     "execution_count": 31,
     "metadata": {},
     "output_type": "execute_result"
    }
   ],
   "source": [
    "# Creamos un nuevo par (\"key\" d y \"valor\" 6)\n",
    "dict_0['d'] = 6 \n",
    "dict_0"
   ]
  },
  {
   "cell_type": "code",
   "execution_count": 34,
   "metadata": {},
   "outputs": [
    {
     "data": {
      "text/plain": [
       "{'a': -5, 'c': 0, 'd': 6, 'e': None}"
      ]
     },
     "execution_count": 34,
     "metadata": {},
     "output_type": "execute_result"
    }
   ],
   "source": [
    "dict_0['e'] = None\n",
    "dict_0"
   ]
  },
  {
   "cell_type": "code",
   "execution_count": 40,
   "metadata": {},
   "outputs": [],
   "source": [
    "dict_0['e']"
   ]
  },
  {
   "cell_type": "markdown",
   "metadata": {},
   "source": [
    "odemos recuperar todas las claves de un diccionario con el método **keys**, todos los valores con **values**, y ambos conjuntos de valores con **items**:"
   ]
  },
  {
   "cell_type": "code",
   "execution_count": 35,
   "metadata": {},
   "outputs": [
    {
     "data": {
      "text/plain": [
       "dict_keys(['a', 'c', 'd', 'e'])"
      ]
     },
     "execution_count": 35,
     "metadata": {},
     "output_type": "execute_result"
    }
   ],
   "source": [
    "dict_0.keys()"
   ]
  },
  {
   "cell_type": "code",
   "execution_count": 36,
   "metadata": {},
   "outputs": [
    {
     "data": {
      "text/plain": [
       "dict_values([-5, 0, 6, None])"
      ]
     },
     "execution_count": 36,
     "metadata": {},
     "output_type": "execute_result"
    }
   ],
   "source": [
    "dict_0.values()"
   ]
  },
  {
   "cell_type": "code",
   "execution_count": 37,
   "metadata": {},
   "outputs": [
    {
     "data": {
      "text/plain": [
       "dict_items([('a', -5), ('c', 0), ('d', 6), ('e', None)])"
      ]
     },
     "execution_count": 37,
     "metadata": {},
     "output_type": "execute_result"
    }
   ],
   "source": [
    "dict_0.items()"
   ]
  },
  {
   "cell_type": "markdown",
   "metadata": {},
   "source": [
    "Podemos **iterar** sobre los elementos de un diccionario utilizando keys,values o items, o bien iterando directamente sobre el diccionario (que es equivalente a iterar sobre sus claves):"
   ]
  },
  {
   "cell_type": "code",
   "execution_count": 42,
   "metadata": {},
   "outputs": [
    {
     "name": "stdout",
     "output_type": "stream",
     "text": [
      "a\n",
      "c\n",
      "d\n",
      "e\n"
     ]
    }
   ],
   "source": [
    "# Opción 1: iteramos sobre el diccionario directamente\n",
    "for n in dict_0:\n",
    "    print(n)"
   ]
  },
  {
   "cell_type": "code",
   "execution_count": 43,
   "metadata": {},
   "outputs": [
    {
     "name": "stdout",
     "output_type": "stream",
     "text": [
      "-5\n",
      "0\n",
      "6\n",
      "None\n"
     ]
    }
   ],
   "source": [
    "for n in dict_0:\n",
    "    print(dict_0[n])"
   ]
  },
  {
   "cell_type": "code",
   "execution_count": 44,
   "metadata": {},
   "outputs": [
    {
     "name": "stdout",
     "output_type": "stream",
     "text": [
      "a -5\n",
      "c 0\n",
      "d 6\n",
      "e None\n"
     ]
    }
   ],
   "source": [
    "for n in dict_0:\n",
    "    print(n, dict_0[n])"
   ]
  },
  {
   "cell_type": "code",
   "execution_count": 45,
   "metadata": {},
   "outputs": [
    {
     "name": "stdout",
     "output_type": "stream",
     "text": [
      "a\n",
      "c\n",
      "d\n",
      "e\n"
     ]
    }
   ],
   "source": [
    "# opción 2: iteramos sobre las claves directamente\n",
    "for k in dict_0.keys():\n",
    "    print(k)"
   ]
  },
  {
   "cell_type": "code",
   "execution_count": 46,
   "metadata": {},
   "outputs": [
    {
     "name": "stdout",
     "output_type": "stream",
     "text": [
      "-5\n",
      "0\n",
      "6\n",
      "None\n"
     ]
    }
   ],
   "source": [
    "# Iteramos sobre los valores directamente\n",
    "for v in dict_0.values():\n",
    "    print(v)"
   ]
  },
  {
   "cell_type": "code",
   "execution_count": 47,
   "metadata": {},
   "outputs": [
    {
     "name": "stdout",
     "output_type": "stream",
     "text": [
      "a -5\n",
      "c 0\n",
      "d 6\n",
      "e None\n"
     ]
    }
   ],
   "source": [
    "# iteramos sobre las tuplas o items\n",
    "for k,v in dict_0.items():\n",
    "    print(k,v)"
   ]
  },
  {
   "cell_type": "code",
   "execution_count": 49,
   "metadata": {},
   "outputs": [
    {
     "data": {
      "text/plain": [
       "True"
      ]
     },
     "execution_count": 49,
     "metadata": {},
     "output_type": "execute_result"
    }
   ],
   "source": [
    "-5 in dict_0.values()"
   ]
  },
  {
   "cell_type": "code",
   "execution_count": 50,
   "metadata": {},
   "outputs": [
    {
     "data": {
      "text/plain": [
       "dict_values"
      ]
     },
     "execution_count": 50,
     "metadata": {},
     "output_type": "execute_result"
    }
   ],
   "source": [
    "type(dict_0.values())"
   ]
  },
  {
   "cell_type": "markdown",
   "metadata": {},
   "source": [
    "Los diccionarios pueden contener otros diccionarios. Esto permite tener variables con estructuras complejas."
   ]
  },
  {
   "cell_type": "code",
   "execution_count": 60,
   "metadata": {},
   "outputs": [],
   "source": [
    "speeds = {\n",
    "    \"Spain\": {\"motorway\": 120, \"road\": 90, \"city\": 50},\n",
    "    \"France\": {\"motorway\": 130, \"road\": 80, \"city\": 50},\n",
    "    2 : {\"motorway\": 130, \"road\": 80, \"city\": 50}\n",
    "}"
   ]
  },
  {
   "cell_type": "code",
   "execution_count": 53,
   "metadata": {},
   "outputs": [
    {
     "name": "stdout",
     "output_type": "stream",
     "text": [
      "{'motorway': 120, 'road': 90, 'city': 50}\n"
     ]
    }
   ],
   "source": [
    "# Recuperamos el diccionario de las velocidades de España\n",
    "print(speeds['Spain'])"
   ]
  },
  {
   "cell_type": "code",
   "execution_count": 54,
   "metadata": {},
   "outputs": [
    {
     "data": {
      "text/plain": [
       "80"
      ]
     },
     "execution_count": 54,
     "metadata": {},
     "output_type": "execute_result"
    }
   ],
   "source": [
    "# Consultamos la velocidad máxima en carretera en Francia\n",
    "speeds['France']['road']"
   ]
  },
  {
   "cell_type": "code",
   "execution_count": 59,
   "metadata": {},
   "outputs": [
    {
     "data": {
      "text/plain": [
       "int"
      ]
     },
     "execution_count": 59,
     "metadata": {},
     "output_type": "execute_result"
    }
   ],
   "source": [
    "type(speeds['France']['road'])"
   ]
  },
  {
   "cell_type": "code",
   "execution_count": 62,
   "metadata": {},
   "outputs": [
    {
     "data": {
      "text/plain": [
       "{'motorway': 130, 'road': 80, 'city': 50}"
      ]
     },
     "execution_count": 62,
     "metadata": {},
     "output_type": "execute_result"
    }
   ],
   "source": [
    "# No es posible \n",
    "speeds[2]"
   ]
  },
  {
   "cell_type": "code",
   "execution_count": 63,
   "metadata": {},
   "outputs": [
    {
     "data": {
      "text/plain": [
       "dict_keys(['Spain', 'France', 2])"
      ]
     },
     "execution_count": 63,
     "metadata": {},
     "output_type": "execute_result"
    }
   ],
   "source": [
    "speeds.keys()"
   ]
  },
  {
   "cell_type": "code",
   "execution_count": 64,
   "metadata": {},
   "outputs": [
    {
     "data": {
      "text/plain": [
       "{'motorway': 130, 'road': 80, 'city': 50}"
      ]
     },
     "execution_count": 64,
     "metadata": {},
     "output_type": "execute_result"
    }
   ],
   "source": [
    "speeds[2]"
   ]
  },
  {
   "cell_type": "code",
   "execution_count": 65,
   "metadata": {},
   "outputs": [],
   "source": [
    "# Creamos dos diccionarios con el mismo contenido, pero\n",
    "# en orden diferente\n",
    "dict_1 = {\"a\": 0, \"b\": 1, \"c\": 2}\n",
    "dict_2 = {\"b\": 1, \"a\": 0, \"c\": 2}"
   ]
  },
  {
   "cell_type": "code",
   "execution_count": 66,
   "metadata": {},
   "outputs": [
    {
     "data": {
      "text/plain": [
       "True"
      ]
     },
     "execution_count": 66,
     "metadata": {},
     "output_type": "execute_result"
    }
   ],
   "source": [
    "dict_1 == dict_2"
   ]
  },
  {
   "cell_type": "markdown",
   "metadata": {},
   "source": [
    " Ahora bien, a partir de la **versión 3.6 de Python**, la implementación de los diccionarios preserva el orden de inserción de los elementos. Es decir, cuando recorremos el diccionario, la implementación nos devuelve los elementos en el orden que fueron insertados. \n",
    " \n",
    " A partir de la **versión 3.7 y posteriores**, este comportamiento se ha declarado como oficial y, por lo tanto, podemos crear código que asuma que los diccionarios mantienen el orden de inserción de sus elementos:"
   ]
  },
  {
   "cell_type": "code",
   "execution_count": 76,
   "metadata": {},
   "outputs": [
    {
     "data": {
      "text/plain": [
       "{'Key_0': 'Value_1',\n",
       " 'Key_1': 'Value_2',\n",
       " 'Key_2': 'Value_3',\n",
       " 'Key_3': 'Value_4',\n",
       " 'Key_4': 'Value_5',\n",
       " 'Key_5': 'Value_6',\n",
       " 'Key_6': 'Value_7',\n",
       " 'Key_7': 'Value_8',\n",
       " 'Key_8': 'Value_9',\n",
       " 'Key_9': 'Value_10'}"
      ]
     },
     "execution_count": 76,
     "metadata": {},
     "output_type": "execute_result"
    }
   ],
   "source": [
    "# Creamos un diccionario\n",
    "dict_3 = {f\"Key_{num}\": f\"Value_{num+1}\" for num in range(10)}\n",
    "dict_3"
   ]
  },
  {
   "cell_type": "code",
   "execution_count": 77,
   "metadata": {},
   "outputs": [
    {
     "data": {
      "text/plain": [
       "dict"
      ]
     },
     "execution_count": 77,
     "metadata": {},
     "output_type": "execute_result"
    }
   ],
   "source": [
    "type(dict_3)"
   ]
  },
  {
   "cell_type": "code",
   "execution_count": 79,
   "metadata": {},
   "outputs": [],
   "source": [
    "import json\n",
    "import requests\n",
    "url=\"https://raw.githubusercontent.com/reliefweb/crisis-app-data/v1/edition/world/main.json\"\n",
    "response = requests.get(url)\n",
    "todos = json.loads(response.text)"
   ]
  },
  {
   "cell_type": "code",
   "execution_count": 83,
   "metadata": {},
   "outputs": [
    {
     "data": {
      "text/plain": [
       "'[{\"index\":1,\"name\":\"Afghanistan\",\"overview\":{\"name\":\"Overview\",\"text\":\"Afghanistan has seen a new es'"
      ]
     },
     "execution_count": 83,
     "metadata": {},
     "output_type": "execute_result"
    }
   ],
   "source": [
    "response.text[:100]"
   ]
  },
  {
   "cell_type": "code",
   "execution_count": 82,
   "metadata": {},
   "outputs": [
    {
     "data": {
      "text/plain": [
       "str"
      ]
     },
     "execution_count": 82,
     "metadata": {},
     "output_type": "execute_result"
    }
   ],
   "source": [
    "type(response.text)"
   ]
  },
  {
   "cell_type": "code",
   "execution_count": 85,
   "metadata": {},
   "outputs": [
    {
     "data": {
      "text/plain": [
       "dict"
      ]
     },
     "execution_count": 85,
     "metadata": {},
     "output_type": "execute_result"
    }
   ],
   "source": [
    "type(todos[0])"
   ]
  },
  {
   "cell_type": "code",
   "execution_count": 86,
   "metadata": {},
   "outputs": [
    {
     "data": {
      "text/plain": [
       "30"
      ]
     },
     "execution_count": 86,
     "metadata": {},
     "output_type": "execute_result"
    }
   ],
   "source": [
    "len(todos)"
   ]
  },
  {
   "cell_type": "code",
   "execution_count": 87,
   "metadata": {},
   "outputs": [
    {
     "data": {
      "text/plain": [
       "dict_keys(['index', 'name', 'overview', 'iso3', 'url', 'map', 'image', 'figures', 'fts_appeals', 'appeals'])"
      ]
     },
     "execution_count": 87,
     "metadata": {},
     "output_type": "execute_result"
    }
   ],
   "source": [
    "todos[0].keys()"
   ]
  },
  {
   "cell_type": "code",
   "execution_count": 90,
   "metadata": {},
   "outputs": [
    {
     "data": {
      "text/plain": [
       "{'name': 'Overview',\n",
       " 'text': 'Afghanistan has seen a new escalation of violence and non-government armed groups (NGAGs) such as the Taliban and Islamic State Khorasan (ISK) control more territory now than they have since 2001.\\xa0Active conflict is disrupting civilian life, limiting access to basic services and raising protection concerns for 17m Afghans in 106 districts.\\xa0The volatile, unpredictable security situation and a severe drought in 22 of 34 provinces has led to the displacement of 585,000 people in 2018 with urgent shelter, food, protection and WASH needs.\\xa0The drought has exacerbated food insecurity, decreased livelihood opportunities and increased WASH and health needs, particularly in rural areas.\\xa0An increasing number of returnee-IDPs from Iran put additional pressure on host community resources and international assistance.\\xa0Afghanistan is also prone to sudden-onset disasters including avalanches, landslides and flash floods. Anticipated above-average precipitation due to El Niño could lead to devastating outcomes due to current drought conditions.\\xa0Read our Briefing Note on floods\\xa0in south and west Afghanistan in March 2019.INFORM measures Afghanistan’s risk of humanitarian crisis and disaster to be very high, at 7.8/10, putting it at rank 4 on the global crisis level. Afghanistan rates 8.8/10 for hazard and exposure and 7.5/10 for a lack of coping capacity.\\xa0ACCESS SITUATIONInsecurity and the presence of NSAG hamper the delivery of humanitarian assistance across the country. At least 46 districts are classified as hard-to-reach areas, where needs for multi-cluster interventions are estimated to be high but only limited data is available.\\xa0Access to areas controlled or contested by NSAG is especially constricted, as NSAG demand illegal taxation and humanitarian workers report pressure from government officials not to respond to these areas. Decades of conflict have left major supply roads in very poor condition and are often targeted by NSAGs.\\xa0Land mine contamination and targeting of humanitarian aid workers further add to access constraints.\\xa0\\xa0',\n",
       " 'date': '2019-05-29T14:15:57.000Z',\n",
       " 'source': 'ACAPS',\n",
       " 'language': 'en',\n",
       " 'url': 'https://www.acaps.org/country/afghanistan'}"
      ]
     },
     "execution_count": 90,
     "metadata": {},
     "output_type": "execute_result"
    }
   ],
   "source": [
    "todos[0]['overview']"
   ]
  },
  {
   "cell_type": "code",
   "execution_count": 91,
   "metadata": {},
   "outputs": [
    {
     "data": {
      "text/plain": [
       "dict"
      ]
     },
     "execution_count": 91,
     "metadata": {},
     "output_type": "execute_result"
    }
   ],
   "source": [
    "type(todos[0]['overview'])"
   ]
  },
  {
   "cell_type": "code",
   "execution_count": 3,
   "metadata": {},
   "outputs": [
    {
     "ename": "IndentationError",
     "evalue": "expected an indented block (332974428.py, line 3)",
     "output_type": "error",
     "traceback": [
      "\u001b[0;36m  Input \u001b[0;32mIn [3]\u001b[0;36m\u001b[0m\n\u001b[0;31m    #print(i)\u001b[0m\n\u001b[0m             ^\u001b[0m\n\u001b[0;31mIndentationError\u001b[0m\u001b[0;31m:\u001b[0m expected an indented block\n"
     ]
    }
   ],
   "source": [
    "# Iteramos con cada uno de los índices de nuestra lista\n",
    "for i in todos:\n",
    "    #print(i)"
   ]
  },
  {
   "cell_type": "markdown",
   "metadata": {},
   "source": [
    "## Dict comprehensions\n",
    "\n",
    "De una manera similar a las list comprehensions podemos utilizar dict comprehensions para crear nuevos diccionarios con una sintaxis compacta. \n",
    "\n",
    "La sintaxis de una dict comprehension consta de **unas claves** (que definen el diccionario), que contienen al menos **una cláusula for** y que pueden tener también **cláusulas if**. \n",
    "\n",
    "Se deberá **especificar cuál es la clave** y cuál es el valor para cada entrada del diccionario (a diferencia de las listas, donde solo había que especificar el valor de cada elemento). Veámoslo con algunos ejemplos:"
   ]
  },
  {
   "cell_type": "code",
   "execution_count": 100,
   "metadata": {},
   "outputs": [
    {
     "name": "stdout",
     "output_type": "stream",
     "text": [
      "Original dict:\n",
      "\t{1.0: 'one', 2.0: 'two', 3.0: 'three', 4.0: 'four', 5.0: 'five'}\n"
     ]
    }
   ],
   "source": [
    "# Definimos un diccionario sobre el que iterar\n",
    "dict_4 = {1.0: \"one\", 2.0: \"two\", 3.0: \"three\", 4.0: \"four\", 5.0: \"five\"}\n",
    "print(\"Original dict:\\n\\t{}\".format(dict_4))"
   ]
  },
  {
   "cell_type": "code",
   "execution_count": 101,
   "metadata": {},
   "outputs": [
    {
     "data": {
      "text/plain": [
       "{1.0: 'number', 2.0: 'number', 3.0: 'number', 4.0: 'number', 5.0: 'number'}"
      ]
     },
     "execution_count": 101,
     "metadata": {},
     "output_type": "execute_result"
    }
   ],
   "source": [
    "# Iteramos sobre las claves y creamos un nuevo diccionario con las mismas\n",
    "# claves y \"number\" como valor (para todos los elementos)\n",
    "dict_5 = {k: \"number\" for k in dict_4.keys()}\n",
    "dict_5"
   ]
  },
  {
   "cell_type": "code",
   "execution_count": 102,
   "metadata": {},
   "outputs": [
    {
     "data": {
      "text/plain": [
       "{'one': 'new', 'two': 'new', 'three': 'new', 'four': 'new', 'five': 'new'}"
      ]
     },
     "execution_count": 102,
     "metadata": {},
     "output_type": "execute_result"
    }
   ],
   "source": [
    "# Iteramos sobre los valores y creamos un nuevo diccionario utilizando\n",
    "# los valores como clave y \"new\" como valor (para todos los elementos)\n",
    "\n",
    "dict_6 = {v: \"new\" for v in dict_4.values()}\n",
    "dict_6"
   ]
  },
  {
   "cell_type": "code",
   "execution_count": 105,
   "metadata": {},
   "outputs": [
    {
     "data": {
      "text/plain": [
       "{1: 'one!', 2: 'two!', 3: 'three!', 4: 'four!', 5: 'five!'}"
      ]
     },
     "execution_count": 105,
     "metadata": {},
     "output_type": "execute_result"
    }
   ],
   "source": [
    "# Iteramos sobre los ítems y creamos un nuevo diccionario con las claves\n",
    "# convertidas a entero y los valores con un ! final\n",
    "dict_7 = {int(k):v + \"!\" for (k,v) in dict_4.items()}\n",
    "dict_7"
   ]
  },
  {
   "cell_type": "code",
   "execution_count": 107,
   "metadata": {},
   "outputs": [
    {
     "data": {
      "text/plain": [
       "{1.0: 'one', 2.0: 'two', 3.0: 'three', 4.0: 'four', 5.0: 'five'}"
      ]
     },
     "execution_count": 107,
     "metadata": {},
     "output_type": "execute_result"
    }
   ],
   "source": [
    "dict_4"
   ]
  },
  {
   "cell_type": "code",
   "execution_count": 106,
   "metadata": {},
   "outputs": [
    {
     "data": {
      "text/plain": [
       "{1: 3, 2: 3, 3: 5, 4: 4, 5: 4}"
      ]
     },
     "execution_count": 106,
     "metadata": {},
     "output_type": "execute_result"
    }
   ],
   "source": [
    "# Creamos un diccionario con las mismas claves que el diccionario original\n",
    "# pero pasadas a entero, y como valor guardamos la longitud del valor\n",
    "# original (es decir, el número de letras de la palabra)\n",
    "dict_8 = {int(k): len(v) for (k,v) in dict_4.items()}\n",
    "dict_8"
   ]
  },
  {
   "cell_type": "code",
   "execution_count": 108,
   "metadata": {},
   "outputs": [
    {
     "data": {
      "text/plain": [
       "{1: 1, 2: 0, 3: 2, 4: 0, 5: 1}"
      ]
     },
     "execution_count": 108,
     "metadata": {},
     "output_type": "execute_result"
    }
   ],
   "source": [
    "# Creamos un diccionario con las mismas claves que el diccionario original\n",
    "# pero pasadas a entero, y como valor guardamos el número de veces que\n",
    "# aparece la letra e en el valor\n",
    "dict_9 = {int(k): v.count(\"e\") for (k,v) in dict_4.items()}\n",
    "dict_9"
   ]
  },
  {
   "cell_type": "code",
   "execution_count": 109,
   "metadata": {},
   "outputs": [
    {
     "data": {
      "text/plain": [
       "{'ONE': 3, 'TWO': 3, 'THREE': 5, 'FOUR': 4, 'FIVE': 4}"
      ]
     },
     "execution_count": 109,
     "metadata": {},
     "output_type": "execute_result"
    }
   ],
   "source": [
    "# Creamos un diccionario con los valores del diccionario original en mayúsculas\n",
    "# como clave, y como valor guardamos la longitud del valor original (es\n",
    "# decir, el número de letras de la palabra)\n",
    "dict_10 = {v.upper(): len(v) for (k,v) in dict_4.items()}\n",
    "dict_10"
   ]
  },
  {
   "cell_type": "code",
   "execution_count": 110,
   "metadata": {},
   "outputs": [
    {
     "data": {
      "text/plain": [
       "{1: 'one', 3: 'three', 5: 'five'}"
      ]
     },
     "execution_count": 110,
     "metadata": {},
     "output_type": "execute_result"
    }
   ],
   "source": [
    "# Creamos un diccionario con las mismas claves que el diccionario original\n",
    "# pero pasadas a entero, y los mismos valores, incluyendo solo los elementos\n",
    "# que tienen alguna e en el valor\n",
    "dict_11 = {int(k): v for (k,v) in dict_4.items() if v.count(\"e\")}\n",
    "dict_11"
   ]
  },
  {
   "cell_type": "code",
   "execution_count": 112,
   "metadata": {},
   "outputs": [
    {
     "data": {
      "text/plain": [
       "{11: 'one + ten', 13: 'three + ten', 15: 'five + ten'}"
      ]
     },
     "execution_count": 112,
     "metadata": {},
     "output_type": "execute_result"
    }
   ],
   "source": [
    "# Creamos un diccionario que tiene como clave las claves originales pasadas a\n",
    "# entero y sumando 10, y como valor el mismo valor concatenado con \" + ten\",\n",
    "# incluyendo solo las claves impares\n",
    "dict_12 = {int(k) + 10: v + \" + ten\"\n",
    "            for (k,v) in dict_4.items() if int(k) % 2}\n",
    "dict_12"
   ]
  },
  {
   "cell_type": "markdown",
   "metadata": {},
   "source": [
    "Por último, las dict comprehensions también pueden contener más de una cláusula for, lo que permite combinar los contenidos de varios diccionarios en la construcción del nuevo diccionario. Veamos un ejemplo de una baraja de cartas:"
   ]
  },
  {
   "cell_type": "code",
   "execution_count": 119,
   "metadata": {},
   "outputs": [],
   "source": [
    "# Definimos los 4 palos y el símbolo que los representa\n",
    "suits = {\"hearts\": \"\\u2665\", \"tiles\": \"\\u2666\",\n",
    "         \"clovers\": \"\\u2663\", \"pikes\": \"\\u2660\"}\n",
    "# Definimos los posibles valores de las cartas\n",
    "ranks = {\"2\": 2, \"3\": 3, \"4\": 4, \"5\": 5, \"6\": 6, \"7\": 7,\n",
    "         \"8\": 8, \"9\": 9, \"10\": 10, \"J\": 11, \"Q\": 12, \"K\": 13, \"A\": 14}\n",
    "# Definimos una posible asignación de valores a los palos\n",
    "suit_cod = {\"hearts\": 1, \"tiles\": 2, \"clovers\": 3, \"pikes\": 4}"
   ]
  },
  {
   "cell_type": "code",
   "execution_count": 136,
   "metadata": {},
   "outputs": [
    {
     "name": "stdout",
     "output_type": "stream",
     "text": [
      "[('2♥', 2), ('3♥', 3), ('4♥', 4), ('5♥', 5), ('6♥', 6), ('7♥', 7), ('8♥', 8), ('9♥', 9), ('10♥', 10), ('J♥', 11), ('Q♥', 12), ('K♥', 13), ('A♥', 14), ('2♦', 2), ('3♦', 3), ('4♦', 4), ('5♦', 5), ('6♦', 6), ('7♦', 7), ('8♦', 8), ('9♦', 9), ('10♦', 10), ('J♦', 11), ('Q♦', 12), ('K♦', 13), ('A♦', 14), ('2♣', 2), ('3♣', 3), ('4♣', 4), ('5♣', 5), ('6♣', 6), ('7♣', 7), ('8♣', 8), ('9♣', 9), ('10♣', 10), ('J♣', 11), ('Q♣', 12), ('K♣', 13), ('A♣', 14), ('2♠', 2), ('3♠', 3), ('4♠', 4), ('5♠', 5), ('6♠', 6), ('7♠', 7), ('8♠', 8), ('9♠', 9), ('10♠', 10), ('J♠', 11), ('Q♠', 12), ('K♠', 13), ('A♠', 14)]\n",
      "*-*-*-*-*-*-*-*-*-*-\n",
      "{'2♥': 2, '3♥': 3, '4♥': 4, '5♥': 5, '6♥': 6, '7♥': 7, '8♥': 8, '9♥': 9, '10♥': 10, 'J♥': 11, 'Q♥': 12, 'K♥': 13, 'A♥': 14, '2♦': 2, '3♦': 3, '4♦': 4, '5♦': 5, '6♦': 6, '7♦': 7, '8♦': 8, '9♦': 9, '10♦': 10, 'J♦': 11, 'Q♦': 12, 'K♦': 13, 'A♦': 14, '2♣': 2, '3♣': 3, '4♣': 4, '5♣': 5, '6♣': 6, '7♣': 7, '8♣': 8, '9♣': 9, '10♣': 10, 'J♣': 11, 'Q♣': 12, 'K♣': 13, 'A♣': 14, '2♠': 2, '3♠': 3, '4♠': 4, '5♠': 5, '6♠': 6, '7♠': 7, '8♠': 8, '9♠': 9, '10♠': 10, 'J♠': 11, 'Q♠': 12, 'K♠': 13, 'A♠': 14}\n"
     ]
    }
   ],
   "source": [
    "new_list = []\n",
    "for s_v in suits.values():\n",
    "    for (r_k, r_v) in ranks.items():\n",
    "        new_list.append((r_k + s_v, r_v))\n",
    "print(new_list)\n",
    "print(\"*-\"*10)\n",
    "print(dict(new_list))"
   ]
  },
  {
   "cell_type": "code",
   "execution_count": null,
   "metadata": {},
   "outputs": [],
   "source": [
    "new_dict = {}\n",
    "new_dict[r_k + s_v] = r_v"
   ]
  },
  {
   "cell_type": "code",
   "execution_count": 126,
   "metadata": {},
   "outputs": [
    {
     "name": "stdout",
     "output_type": "stream",
     "text": [
      "<class 'tuple'>\n"
     ]
    },
    {
     "data": {
      "text/plain": [
       "dict"
      ]
     },
     "execution_count": 126,
     "metadata": {},
     "output_type": "execute_result"
    }
   ],
   "source": [
    "# list of tuples\n",
    "list_of_tuples = [('a', 'A'), ('b', 'B'), ('c', 'C')]\n",
    "print(type(list_of_tuples[0]))\n",
    "# converting to dictionary\n",
    "list_of_tuples_dict = dict(list_of_tuples)\n",
    "type(list_of_tuples_dict)"
   ]
  },
  {
   "cell_type": "code",
   "execution_count": 127,
   "metadata": {},
   "outputs": [
    {
     "data": {
      "text/plain": [
       "{'a': 'A', 'b': 'B', 'c': 'C'}"
      ]
     },
     "execution_count": 127,
     "metadata": {},
     "output_type": "execute_result"
    }
   ],
   "source": [
    "list_of_tuples_dict"
   ]
  },
  {
   "cell_type": "code",
   "execution_count": 120,
   "metadata": {},
   "outputs": [
    {
     "name": "stdout",
     "output_type": "stream",
     "text": [
      "{'2♥': 2, '3♥': 3, '4♥': 4, '5♥': 5, '6♥': 6, '7♥': 7, '8♥': 8, '9♥': 9, '10♥': 10, 'J♥': 11, 'Q♥': 12, 'K♥': 13, 'A♥': 14, '2♦': 2, '3♦': 3, '4♦': 4, '5♦': 5, '6♦': 6, '7♦': 7, '8♦': 8, '9♦': 9, '10♦': 10, 'J♦': 11, 'Q♦': 12, 'K♦': 13, 'A♦': 14, '2♣': 2, '3♣': 3, '4♣': 4, '5♣': 5, '6♣': 6, '7♣': 7, '8♣': 8, '9♣': 9, '10♣': 10, 'J♣': 11, 'Q♣': 12, 'K♣': 13, 'A♣': 14, '2♠': 2, '3♠': 3, '4♠': 4, '5♠': 5, '6♠': 6, '7♠': 7, '8♠': 8, '9♠': 9, '10♠': 10, 'J♠': 11, 'Q♠': 12, 'K♠': 13, 'A♠': 14}\n"
     ]
    }
   ],
   "source": [
    "# Creamos un diccionario que contendrá todas las cartas de la baraja, con\n",
    "# el símbolo del palo y el número de carta como clave, y el número de carta\n",
    "# como valor\n",
    "card_deck = { r_k + s_v : r_v for (s_k, s_v) in suits.items()\n",
    "        for (r_k, r_v) in ranks.items()\n",
    "        }\n",
    "print(card_deck)"
   ]
  },
  {
   "cell_type": "code",
   "execution_count": 123,
   "metadata": {},
   "outputs": [
    {
     "name": "stdout",
     "output_type": "stream",
     "text": [
      "{'2♥': 102, '3♥': 103, '4♥': 104, '5♥': 105, '6♥': 106, '7♥': 107, '8♥': 108, '9♥': 109, '10♥': 110, 'J♥': 111, 'Q♥': 112, 'K♥': 113, 'A♥': 114, '2♦': 202, '3♦': 203, '4♦': 204, '5♦': 205, '6♦': 206, '7♦': 207, '8♦': 208, '9♦': 209, '10♦': 210, 'J♦': 211, 'Q♦': 212, 'K♦': 213, 'A♦': 214, '2♣': 302, '3♣': 303, '4♣': 304, '5♣': 305, '6♣': 306, '7♣': 307, '8♣': 308, '9♣': 309, '10♣': 310, 'J♣': 311, 'Q♣': 312, 'K♣': 313, 'A♣': 314, '2♠': 402, '3♠': 403, '4♠': 404, '5♠': 405, '6♠': 406, '7♠': 407, '8♠': 408, '9♠': 409, '10♠': 410, 'J♠': 411, 'Q♠': 412, 'K♠': 413, 'A♠': 414}\n"
     ]
    }
   ],
   "source": [
    "# Creamos un diccionario que contendrá todas las cartas de la baraja, con\n",
    "# el símbolo del palo y el número de carta como clave, y una codificación\n",
    "# única como valor\n",
    "card_deck_cod = {r_k + s_v: 100 * suit_cod[s_k] + r_v\n",
    "                 for (s_k, s_v) in suits.items()\n",
    "                 for (r_k, r_v) in ranks.items()}\n",
    "print(card_deck_cod)"
   ]
  }
 ],
 "metadata": {
  "interpreter": {
   "hash": "3a457f06cda4579c7033761bf4e886c4764e74b759b9220f07c03aa5d4880471"
  },
  "kernelspec": {
   "display_name": "Python 3.9.5 ('data_science_py395')",
   "language": "python",
   "name": "python3"
  },
  "language_info": {
   "codemirror_mode": {
    "name": "ipython",
    "version": 3
   },
   "file_extension": ".py",
   "mimetype": "text/x-python",
   "name": "python",
   "nbconvert_exporter": "python",
   "pygments_lexer": "ipython3",
   "version": "3.9.5"
  },
  "orig_nbformat": 4
 },
 "nbformat": 4,
 "nbformat_minor": 2
}
