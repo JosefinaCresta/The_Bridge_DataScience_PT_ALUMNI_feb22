{
 "cells": [
  {
   "cell_type": "markdown",
   "metadata": {},
   "source": [
    "## Ejercicio 1\n",
    "Somos una empresa que tiene varias tiendas de electrodomesticos. Necesitamos un programa para manejar las tiendas, ver las ventas que han tenido, cuántos empleados hay, etc... Para ello vamos a modelizar la tienda en una clase, que tendrá las siguientes características:\n",
    "\n",
    "* Nombre clase: \"Tienda\"\n",
    "* Atributos comunes:\n",
    "    * Tipo: \"Electrodomésticos\"\n",
    "    * Abierta: True\n",
    "* Atributos propios de cada tienda:\n",
    "    * Nombre - String\n",
    "    * Dirección - String\n",
    "    * Número de empleados - int\n",
    "    * Ventas ultimos 3 meses - Lista de 3 numeros\n",
    "* Método para calcular las ventas de todos los meses, que devuelva un numero con todas las ventas.\n",
    "* Método que calcula la media de ventas de los ultimos meses, por empleado\n",
    "* Método que devuelve en un string el nombre de la tienda, junto con su dirección.\n",
    "* Método que obtiene las ventas del último mes.\n",
    "* Método para dar una proyección de las ventas en caso de haber invertido X dinero en marketing en esa tienda. Siendo X el parámetro de entrada. Si X es menor de 1000, las ventas de los ultimos 3 meses hubiesen sido de (1.2 x ventas), si es mayor o igual de 1000, las ventas hubiesen sido de (1.5 x venta). El método reescribe el atributo de ventas en los últimos 3 meses, y además devuelve las ventas con el aumento.\n",
    "\n",
    "* Se pide:\n",
    "1. Implementar la clase \"Tienda\"\n",
    "2. Crear tres tiendas con datos inventados\n",
    "3. Comprueba en al menos una de ellas, todo lo implementado en la clase tienda (sus atributos, media de ventas, ventas/empleado...)\n",
    "4. Calcular las ventas del último mes de todas las tiendas. Para ello usa el bucle `for`\n",
    "5. Imprime por pantalla los nombres de las tiendas cuya dirección lleve el string \"Avenida\"\n",
    "6. Utilizad este notebook para ejecutar y un fichero para definir vuestras clases, métodos y funciones.\n",
    "7. Seguro que ya has hecho este apartado... Documenta la clase :)"
   ]
  },
  {
   "cell_type": "code",
   "execution_count": 73,
   "metadata": {},
   "outputs": [],
   "source": [
    "class Tienda():\n",
    "    '''\n",
    "    Esta clase permite crear objetos tiendas.\n",
    "\n",
    "    Atributos:\n",
    "        tipo (str): Default: \"Electrodomésticos\"\n",
    "        estado (bool): Default: True\n",
    "        nombre (str)\n",
    "        dirección (str):\n",
    "        num_empleados (int): Número de empleados\n",
    "        ventas_3 (list): Ventas ultimos 3 meses \n",
    "        \n",
    "    '''\n",
    "    def __init__(self, nombre, dirección, num_empleados, ventas_3):\n",
    "        #Creo que los atributos comunes se ponen aca adentro\n",
    "        abierta=True\n",
    "        tipo=\"Electrodomésticos\"\n",
    "        self.tipo = tipo\n",
    "        self.estado = abierta\n",
    "        #Ahora los atributos propios\n",
    "        self.nombre = nombre\n",
    "        self.direccion = dirección\n",
    "        self.numEmpleados = num_empleados\n",
    "        self.ventas = ventas_3\n",
    "        print(\"La Tienda {} ha inicializado\".format(self.nombre))\n",
    "\n",
    "\n",
    "    # Método para calcular las ventas de todos los meses, \n",
    "    # que devuelva un numero con todas las ventas.\n",
    "    def ventas_total(self):\n",
    "        '''\n",
    "        Calculo de las ventas totales\n",
    "\n",
    "        Parameters\n",
    "        ----------\n",
    "            --\n",
    "\n",
    "        Returns\n",
    "        -------\n",
    "            ventas_total (int): Total de ventas\n",
    "        '''\n",
    "        pass\n",
    "        total=sum(self.ventas)\n",
    "        print(\"El total de ventas de {} fue de {}\".format(self.nombre, total))\n",
    "        return total\n",
    "\n",
    "\n",
    "    # Método que calcula la media de ventas de los ultimos meses, por empleado\n",
    "    def ventas_por_emp(self):\n",
    "        '''\n",
    "        Calculo de las ventas por empleado\n",
    "        Parameters\n",
    "        ----------\n",
    "            --\n",
    "\n",
    "        Returns\n",
    "        -------\n",
    "            ventas_por_emp (int): Total de ventas dividido la cantidad de empleados\n",
    "        '''\n",
    "        por_emp=sum(self.ventas)/self.numEmpleados\n",
    "        print(\"Media de ventas por empleado fue de {}\".format(por_emp))\n",
    "        return por_emp\n",
    "\n",
    "\n",
    "    # Método que devuelve en un string el nombre de la tienda, junto con su dirección.\n",
    "    def datos(self):\n",
    "        '''\n",
    "        Información de la tienda\n",
    "        Parameters\n",
    "        ----------\n",
    "            --\n",
    "\n",
    "        Returns\n",
    "        -------\n",
    "            str: nombre de la tienda y dirección\n",
    "        '''\n",
    "        nombre= self.nombre\n",
    "        direcc=self.direccion\n",
    "        return nombre + ' : ' + direcc\n",
    "\n",
    "\n",
    "    # Método que obtiene las ventas del último mes.\n",
    "    def venta_ultimo_mes(self):\n",
    "        '''\n",
    "        Ventas del ultimo mes\n",
    "        Parameters\n",
    "        ----------\n",
    "            --\n",
    "\n",
    "        Returns\n",
    "        -------\n",
    "            ultimo: (int) Cantidad de ventas del último mes \n",
    "        '''\n",
    "        ventas=self.ventas\n",
    "        ultimo = ventas[-1]\n",
    "        print(\"Las ventas del ultimo mes fueron {}\".format(ultimo))\n",
    "        return ultimo\n",
    "\n",
    "    # Método para dar una proyección de las ventas en caso de haber \n",
    "    # invertido X dinero en marketing en esa tienda. Siendo X el parámetro de entrada. \n",
    "    # Si X es menor de 1000, \n",
    "    # las ventas de los ultimos 3 meses hubiesen sido de (1.2 x ventas), \n",
    "    # si es mayor o igual de 1000, las ventas hubiesen sido de (1.5 x venta). \n",
    "    # El método reescribe el atributo de ventas en los últimos 3 meses, \n",
    "    # y además devuelve las ventas con el aumento.\n",
    "    def proyeccion(self, invertido):\n",
    "        #print(\"Self.ventas\", self.ventas)\n",
    "        for i in range(len(self.ventas)):\n",
    "            if invertido<1000:\n",
    "                #print(i, self.ventas[i])\n",
    "                self.ventas[i]= 1.2*self.ventas[i]\n",
    "            else:\n",
    "                self.ventas[i]= 1.5*self.ventas[i]\n",
    "        print(\"La proyeccion de las ventas es de {}, al haber invertido {}€\".format(self.ventas, invertido))\n",
    "        return self.ventas\n",
    "        "
   ]
  },
  {
   "cell_type": "code",
   "execution_count": 74,
   "metadata": {},
   "outputs": [
    {
     "name": "stdout",
     "output_type": "stream",
     "text": [
      "La Tienda Jofi ha inicializado\n"
     ]
    }
   ],
   "source": [
    "jofi=Tienda(\"Jofi\", \"Serrano 60\", 56, [60,70,80])"
   ]
  },
  {
   "cell_type": "code",
   "execution_count": 75,
   "metadata": {},
   "outputs": [
    {
     "name": "stdout",
     "output_type": "stream",
     "text": [
      "Electrodomésticos\n",
      "True\n",
      "Jofi\n",
      "Serrano 60\n",
      "56\n",
      "[60, 70, 80]\n"
     ]
    }
   ],
   "source": [
    "print(jofi.tipo)\n",
    "print(jofi.estado)\n",
    "print(jofi.nombre)\n",
    "print(jofi.direccion)\n",
    "print(jofi.numEmpleados)\n",
    "print(jofi.ventas)"
   ]
  },
  {
   "cell_type": "code",
   "execution_count": 76,
   "metadata": {},
   "outputs": [
    {
     "name": "stdout",
     "output_type": "stream",
     "text": [
      "El total de ventas de Jofi fue de 210\n"
     ]
    },
    {
     "data": {
      "text/plain": [
       "210"
      ]
     },
     "execution_count": 76,
     "metadata": {},
     "output_type": "execute_result"
    }
   ],
   "source": [
    "jofi.ventas_total()"
   ]
  },
  {
   "cell_type": "code",
   "execution_count": 77,
   "metadata": {},
   "outputs": [
    {
     "name": "stdout",
     "output_type": "stream",
     "text": [
      "Media de ventas por empleado fue de 3.75\n"
     ]
    },
    {
     "data": {
      "text/plain": [
       "3.75"
      ]
     },
     "execution_count": 77,
     "metadata": {},
     "output_type": "execute_result"
    }
   ],
   "source": [
    "jofi.ventas_por_emp()"
   ]
  },
  {
   "cell_type": "code",
   "execution_count": 78,
   "metadata": {},
   "outputs": [
    {
     "data": {
      "text/plain": [
       "'Jofi : Serrano 60'"
      ]
     },
     "execution_count": 78,
     "metadata": {},
     "output_type": "execute_result"
    }
   ],
   "source": [
    "jofi.datos()"
   ]
  },
  {
   "cell_type": "code",
   "execution_count": 79,
   "metadata": {},
   "outputs": [
    {
     "name": "stdout",
     "output_type": "stream",
     "text": [
      "Las ventas del ultimo mes fueron 80\n"
     ]
    },
    {
     "data": {
      "text/plain": [
       "80"
      ]
     },
     "execution_count": 79,
     "metadata": {},
     "output_type": "execute_result"
    }
   ],
   "source": [
    "jofi.venta_ultimo_mes()"
   ]
  },
  {
   "cell_type": "code",
   "execution_count": 80,
   "metadata": {},
   "outputs": [
    {
     "name": "stdout",
     "output_type": "stream",
     "text": [
      "La proyeccion de las ventas es de [72.0, 84.0, 96.0], al haber invertido 100€\n"
     ]
    },
    {
     "data": {
      "text/plain": [
       "[72.0, 84.0, 96.0]"
      ]
     },
     "execution_count": 80,
     "metadata": {},
     "output_type": "execute_result"
    }
   ],
   "source": [
    "jofi.proyeccion(100)"
   ]
  },
  {
   "cell_type": "markdown",
   "metadata": {},
   "source": [
    "* Se pide:\n",
    "1. Implementar la clase \"Tienda\"\n",
    "2. Crear tres tiendas con datos inventados\n",
    "3. Comprueba en al menos una de ellas, todo lo implementado en la clase tienda (sus atributos, media de ventas, ventas/empleado...)\n",
    "4. Calcular las ventas del último mes de todas las tiendas. Para ello usa el bucle `for`\n",
    "5. Imprime por pantalla los nombres de las tiendas cuya dirección lleve el string \"Avenida\"\n",
    "6. Utilizad este notebook para ejecutar y un fichero para definir vuestras clases, métodos y funciones.\n",
    "7. Seguro que ya has hecho este apartado... Documenta la clase :)"
   ]
  },
  {
   "cell_type": "code",
   "execution_count": 81,
   "metadata": {},
   "outputs": [
    {
     "name": "stdout",
     "output_type": "stream",
     "text": [
      "La Tienda Prada ha inicializado\n",
      "La Tienda Zara ha inicializado\n",
      "La Tienda Primor ha inicializado\n"
     ]
    }
   ],
   "source": [
    "# Creo 3 tiendas\n",
    "prada=Tienda(\"Prada\", \"Serrano 30\", 5, [100,75,83])\n",
    "zara=Tienda(\"Zara\", \"Avenida Gran via 10\", 50, [1000,785,2283])\n",
    "primor=Tienda(\"Primor\", \"Goya 145\", 30, [1230,90,100])"
   ]
  },
  {
   "cell_type": "code",
   "execution_count": 82,
   "metadata": {},
   "outputs": [
    {
     "name": "stdout",
     "output_type": "stream",
     "text": [
      "Electrodomésticos\n",
      "True\n",
      "Prada\n",
      "Serrano 30\n",
      "5\n",
      "[100, 75, 83]\n"
     ]
    }
   ],
   "source": [
    "#Compruebo atributos\n",
    "print(prada.tipo)\n",
    "print(prada.estado)\n",
    "print(prada.nombre)\n",
    "print(prada.direccion)\n",
    "print(prada.numEmpleados)\n",
    "print(prada.ventas)"
   ]
  },
  {
   "cell_type": "code",
   "execution_count": 83,
   "metadata": {},
   "outputs": [
    {
     "name": "stdout",
     "output_type": "stream",
     "text": [
      "Las ventas del ultimo mes fueron 83\n",
      "Las ventas del ultimo mes fueron 2283\n",
      "Las ventas del ultimo mes fueron 100\n",
      "Las ventas totales del ultimo mes fueron  2466\n"
     ]
    }
   ],
   "source": [
    "#Calculo ventas del uktimo mes\n",
    "tiendas=[prada, zara, primor]\n",
    "\n",
    "total_ultimo_mes=0\n",
    "\n",
    "for tienda in tiendas:\n",
    "    total_ultimo_mes=total_ultimo_mes+tienda.venta_ultimo_mes()\n",
    "print(\"Las ventas totales del ultimo mes fueron \", total_ultimo_mes)"
   ]
  },
  {
   "cell_type": "code",
   "execution_count": 84,
   "metadata": {},
   "outputs": [
    {
     "name": "stdout",
     "output_type": "stream",
     "text": [
      "Zara\n"
     ]
    }
   ],
   "source": [
    "# Imprime por pantalla los nombres de las tiendas cuya dirección lleve el string \"Avenida\"\n",
    "for tienda in tiendas:\n",
    "    dir = tienda.direccion.lower()\n",
    "    lista_dir = dir.split()\n",
    "    if 'avenida' in lista_dir:\n",
    "        print(tienda.nombre)\n"
   ]
  },
  {
   "cell_type": "code",
   "execution_count": null,
   "metadata": {},
   "outputs": [],
   "source": []
  }
 ],
 "metadata": {
  "interpreter": {
   "hash": "445205104a770911ae53d4ff7a59ff70b3e90228acbd85cde7f2b8827f0b2456"
  },
  "kernelspec": {
   "display_name": "Python 3.9.5 ('the_bridge_22')",
   "language": "python",
   "name": "python3"
  },
  "language_info": {
   "codemirror_mode": {
    "name": "ipython",
    "version": 3
   },
   "file_extension": ".py",
   "mimetype": "text/x-python",
   "name": "python",
   "nbconvert_exporter": "python",
   "pygments_lexer": "ipython3",
   "version": "3.9.5"
  },
  "orig_nbformat": 4
 },
 "nbformat": 4,
 "nbformat_minor": 2
}
